{
 "cells": [
  {
   "cell_type": "markdown",
   "id": "f1b2e23a-dfbb-4fc0-9d14-2ff6ccde68d5",
   "metadata": {
    "tags": []
   },
   "source": [
    "## **Install Necessary Packages**\n",
    " - Always run this when starting the notebook"
   ]
  },
  {
   "cell_type": "code",
   "execution_count": 1,
   "id": "c9c7d060-4370-40ee-a137-469bd3ddde52",
   "metadata": {},
   "outputs": [],
   "source": [
    "from netCDF4 import Dataset, num2date, date2num\n",
    "import glob\n",
    "import xarray as xr \n",
    "import seaborn as sns\n",
    "from wrf import (to_np, getvar, smooth2d, get_cartopy, cartopy_xlim, vertcross,\n",
    "                 cartopy_ylim, interplevel, latlon_coords, uvmet, CoordPair,\n",
    "                ALL_TIMES)\n",
    "from matplotlib.dates import MonthLocator\n",
    "import datetime\n",
    "from mpl_toolkits.axes_grid1.inset_locator import inset_axes\n",
    "import cartopy.feature as cfeature\n",
    "import cartopy.crs as ccrs\n",
    "import numpy as np\n",
    "import pandas as pd\n",
    "import matplotlib.pyplot as plt\n",
    "import matplotlib.patheffects as PathEffects\n",
    "import matplotlib.ticker as mticker\n",
    "from matplotlib.cm import get_cmap\n",
    "from cartopy.mpl.gridliner import LONGITUDE_FORMATTER, LATITUDE_FORMATTER\n",
    "\n",
    "SNOWIE_Data_Path = r'/glade/u/home/mwarms/SNOWIE_Seasonal_Data/wrfout_d02'\n",
    "Saved_Data_Path =  r'/glade/u/home/mwarms/SavedData/'\n"
   ]
  },
  {
   "cell_type": "markdown",
   "id": "f98309ac-d7d5-48f8-9156-1702c3768881",
   "metadata": {
    "tags": []
   },
   "source": [
    "## **Create the wrflist**\n",
    "- This code grabs the 5088 hourly datasets from the Casper storage directory [/glade/u/home/mwarms/SNOWIE_Seasonal_Data/wrfout_d02] and creates a list of 5088 NetCDF files for use with the \"wrf.getvar\" statement"
   ]
  },
  {
   "cell_type": "code",
   "execution_count": 2,
   "id": "1962865c-2188-476f-903c-3d41342c359e",
   "metadata": {},
   "outputs": [],
   "source": [
    "# ncfile = Dataset(SNOWIE_Data_Path + \"/wrfout_d02_2017-01-19_17:00:00\")"
   ]
  },
  {
   "cell_type": "code",
   "execution_count": 2,
   "id": "625fb509-93a2-4d84-9c66-333725589615",
   "metadata": {},
   "outputs": [],
   "source": [
    "allfiles = glob.glob(SNOWIE_Data_Path + \"/wrfout_d02*\")\n",
    "allfiles.sort()\n",
    "\n",
    "wrflist = []\n",
    "for f in range(0,len(allfiles)):\n",
    "    wrflist.append(Dataset(allfiles[f]))"
   ]
  },
  {
   "cell_type": "code",
   "execution_count": 3,
   "id": "11138322-2a0b-4c4f-bd6f-3c0d744339b9",
   "metadata": {},
   "outputs": [
    {
     "data": {
      "text/plain": [
       "(['/glade/u/home/mwarms/SNOWIE_Seasonal_Data/wrfout_d02/wrfout_d02_2016-10-01_00:00:00',\n",
       "  '/glade/u/home/mwarms/SNOWIE_Seasonal_Data/wrfout_d02/wrfout_d02_2016-10-01_01:00:00',\n",
       "  '/glade/u/home/mwarms/SNOWIE_Seasonal_Data/wrfout_d02/wrfout_d02_2016-10-01_02:00:00',\n",
       "  '/glade/u/home/mwarms/SNOWIE_Seasonal_Data/wrfout_d02/wrfout_d02_2016-10-01_03:00:00'],\n",
       " ['/glade/u/home/mwarms/SNOWIE_Seasonal_Data/wrfout_d02/wrfout_d02_2017-04-30_20:00:00',\n",
       "  '/glade/u/home/mwarms/SNOWIE_Seasonal_Data/wrfout_d02/wrfout_d02_2017-04-30_21:00:00',\n",
       "  '/glade/u/home/mwarms/SNOWIE_Seasonal_Data/wrfout_d02/wrfout_d02_2017-04-30_22:00:00',\n",
       "  '/glade/u/home/mwarms/SNOWIE_Seasonal_Data/wrfout_d02/wrfout_d02_2017-04-30_23:00:00'])"
      ]
     },
     "execution_count": 3,
     "metadata": {},
     "output_type": "execute_result"
    }
   ],
   "source": [
    "allfiles[0:4], allfiles[-4:]"
   ]
  },
  {
   "cell_type": "code",
   "execution_count": 4,
   "id": "eafa6a57-b378-4be2-8470-3a9034376817",
   "metadata": {},
   "outputs": [],
   "source": [
    "# Save big files to disk then delete for memory purposes\n",
    "Saved_Data_Path = r'/glade/scratch/mwarms/temp/'\n",
    "\n",
    "def write_xarray_to_netcdf(xarray_array, output_path,mode='w', format='NETCDF4', group=None, engine=None,\n",
    "                           encoding=None):\n",
    "    \"\"\"writes and xarray in a netcdf format outputfile\n",
    "    Uses the xarray typical for wrf-python. The projection objects are transformed into strings\n",
    "    to be able to use them as netcdf attributes\n",
    "    :param xarray_array: xarray.DataArray\n",
    "    :param output_path: str\n",
    "    :param format: 'NETCDF4', 'NETCDF4_CLASSIC', 'NETCDF3_64BIT' or 'NETCDF3_CLASSIC'\n",
    "                    default: 'NETCDF4'\n",
    "    :param group: str, default None\n",
    "    :param engine: 'netcdf4', 'scipy' or 'h5netcdf'\n",
    "    :param encoding: dict, default: None\n",
    "    \"\"\"\n",
    "    xarray_array_out = xarray_array.copy(deep=True)\n",
    "    # coordinates are extracted from variable\n",
    "    del xarray_array_out.attrs['coordinates']\n",
    "    # wrf-python projection object cannot be processed\n",
    "    xarray_array_out.attrs['projection'] = str(xarray_array_out.attrs['projection'])\n",
    "\n",
    "    xarray_array_out.to_netcdf(path=output_path, mode=mode, format=format, group=group,\n",
    "                               engine=engine,\n",
    "                               encoding=encoding)"
   ]
  },
  {
   "cell_type": "markdown",
   "id": "5461f35d-5c85-45ab-875a-ac4cf10c56f8",
   "metadata": {
    "jp-MarkdownHeadingCollapsed": true,
    "tags": []
   },
   "source": [
    "## Grab SNOWNC and Store to Local Saved Data"
   ]
  },
  {
   "cell_type": "code",
   "execution_count": null,
   "id": "af03e5a2-e460-478e-9602-ae9a56c845ec",
   "metadata": {},
   "outputs": [],
   "source": [
    "SNOWNC_snowie = getvar(wrflist, \"SNOWNC\", timeidx=ALL_TIMES, method=\"cat\") # accum snow "
   ]
  },
  {
   "cell_type": "code",
   "execution_count": null,
   "id": "9595a2ac-1dd4-4c2e-b8dc-076c78012746",
   "metadata": {},
   "outputs": [],
   "source": [
    "dummy_file = Dataset(SNOWIE_Data_Path + '/wrfout_d02_2016-10-01_00:00:00')\n",
    "cartopy_dom = getvar(dummy_file, \"ter\")\n",
    "\n",
    "lat_min = 43\n",
    "lat_max = 46\n",
    "lon_min = -117\n",
    "lon_max = -111\n",
    "\n",
    "mask_lon = (cartopy_dom.XLONG >= lon_min) & (cartopy_dom.XLONG <= lon_max)\n",
    "mask_lat = (cartopy_dom.XLAT >= lat_min) & (cartopy_dom.XLAT <= lat_max)\n",
    "\n",
    "del dummy_file, cartopy_dom"
   ]
  },
  {
   "cell_type": "code",
   "execution_count": null,
   "id": "3c0ddccc-2dcb-4705-ac79-541e87ad1097",
   "metadata": {},
   "outputs": [],
   "source": [
    "SNOWNC_snowie = SNOWNC_snowie.where(mask_lon & mask_lat, drop=True)"
   ]
  },
  {
   "cell_type": "code",
   "execution_count": null,
   "id": "d85752b4-c274-4e23-aa12-b7838a4fdb73",
   "metadata": {},
   "outputs": [],
   "source": [
    "write_xarray_to_netcdf(SNOWNC_snowie, Saved_Data_Path + \"SNOWNC_snowie.nc\", \n",
    "                       mode = 'w', format = 'NETCDF4', group=None, engine=None, encoding=None)"
   ]
  },
  {
   "cell_type": "markdown",
   "id": "0739b170-9a1d-4aa3-a6e1-db61fa43c7b0",
   "metadata": {
    "jp-MarkdownHeadingCollapsed": true,
    "tags": []
   },
   "source": [
    "## Grab RAINNC and Store to Local Saved Data"
   ]
  },
  {
   "cell_type": "code",
   "execution_count": 6,
   "id": "4eb52a9a-7019-4a2a-a775-bef273b051c7",
   "metadata": {},
   "outputs": [],
   "source": [
    "RAINNC_snowie = getvar(wrflist, \"RAINNC\", timeidx=ALL_TIMES, method=\"cat\") # accum rain"
   ]
  },
  {
   "cell_type": "code",
   "execution_count": 7,
   "id": "3f8df7a4-4c9e-449e-b4bf-22127d2d6417",
   "metadata": {},
   "outputs": [],
   "source": [
    "dummy_file = Dataset(SNOWIE_Data_Path + '/wrfout_d02_2016-10-01_00:00:00')\n",
    "cartopy_dom = getvar(dummy_file, \"ter\")\n",
    "\n",
    "lat_min = 43\n",
    "lat_max = 46\n",
    "lon_min = -117\n",
    "lon_max = -111\n",
    "\n",
    "mask_lon = (cartopy_dom.XLONG >= lon_min) & (cartopy_dom.XLONG <= lon_max)\n",
    "mask_lat = (cartopy_dom.XLAT >= lat_min) & (cartopy_dom.XLAT <= lat_max)\n",
    "\n",
    "del dummy_file, cartopy_dom"
   ]
  },
  {
   "cell_type": "code",
   "execution_count": 8,
   "id": "ee2b6724-1f19-4710-a45e-434741b0ff4c",
   "metadata": {},
   "outputs": [],
   "source": [
    "RAINNC_snowie = RAINNC_snowie.where(mask_lon & mask_lat, drop=True)"
   ]
  },
  {
   "cell_type": "code",
   "execution_count": 10,
   "id": "84d7ff24-9822-474f-8541-556c14a6a6cd",
   "metadata": {},
   "outputs": [],
   "source": [
    "Saved_Data_Path =  r'/glade/u/home/mwarms/SavedData/'\n",
    "\n",
    "write_xarray_to_netcdf(RAINNC_snowie, Saved_Data_Path + \"RAINNC_snowie.nc\", \n",
    "                       mode = 'w', format = 'NETCDF4', group=None, engine=None, encoding=None)"
   ]
  },
  {
   "cell_type": "markdown",
   "id": "df96bfce-7225-4ac4-b21f-9fd152226add",
   "metadata": {
    "jp-MarkdownHeadingCollapsed": true,
    "tags": []
   },
   "source": [
    "## **Grab QCLOUD Data Month by Month -- Store to Scratch**"
   ]
  },
  {
   "cell_type": "markdown",
   "id": "b9df95cc-3e51-41c4-bd7b-75c01e747bf9",
   "metadata": {},
   "source": [
    "**Load Mask Info**"
   ]
  },
  {
   "cell_type": "code",
   "execution_count": null,
   "id": "f8f3a9ee-4d61-4b4e-b2eb-39a85daf9ea8",
   "metadata": {},
   "outputs": [],
   "source": [
    "dummy_file = Dataset(SNOWIE_Data_Path + '/wrfout_d02_2016-10-01_00:00:00')\n",
    "cartopy_dom = getvar(dummy_file, \"ter\")\n",
    "\n",
    "lat_min = 43\n",
    "lat_max = 46\n",
    "lon_min = -117\n",
    "lon_max = -111\n",
    "\n",
    "mask_lon = (cartopy_dom.XLONG >= lon_min) & (cartopy_dom.XLONG <= lon_max)\n",
    "mask_lat = (cartopy_dom.XLAT >= lat_min) & (cartopy_dom.XLAT <= lat_max)\n",
    "\n",
    "del dummy_file, cartopy_dom"
   ]
  },
  {
   "cell_type": "code",
   "execution_count": null,
   "id": "aac19765-5f1d-43ce-8808-124c245f8541",
   "metadata": {},
   "outputs": [],
   "source": [
    "QCLOUD_snowie_oct = getvar(wrflist[0:744], \"QCLOUD\", timeidx=ALL_TIMES, method=\"cat\")\n",
    "QCLOUD_snowie_oct = QCLOUD_snowie_oct.where(mask_lon & mask_lat, drop=True)"
   ]
  },
  {
   "cell_type": "code",
   "execution_count": null,
   "id": "3661233d-bef4-4a70-a9a7-876c849d05f3",
   "metadata": {},
   "outputs": [],
   "source": [
    "write_xarray_to_netcdf(QCLOUD_snowie_oct, Saved_Data_Path + \"QCLOUD_snowie_oct.nc\", \n",
    "                       mode = 'w', format = 'NETCDF4', group=None, engine=None, encoding=None)"
   ]
  },
  {
   "cell_type": "code",
   "execution_count": null,
   "id": "f242a146-07f7-4c14-ab05-acffc1342809",
   "metadata": {},
   "outputs": [],
   "source": [
    "del QCLOUD_snowie_oct"
   ]
  },
  {
   "cell_type": "code",
   "execution_count": null,
   "id": "b87e56c8-3a1b-47e7-8e2f-a4694f61e0f2",
   "metadata": {},
   "outputs": [],
   "source": [
    "QCLOUD_snowie_nov = getvar(wrflist[744:1464], \"QCLOUD\", timeidx=ALL_TIMES, method=\"cat\")\n",
    "QCLOUD_snowie_nov = QCLOUD_snowie_nov.where(mask_lon & mask_lat, drop=True)"
   ]
  },
  {
   "cell_type": "code",
   "execution_count": null,
   "id": "dd218a81-5ce6-4f89-89ea-62e77dbfb7ff",
   "metadata": {},
   "outputs": [],
   "source": [
    "write_xarray_to_netcdf(QCLOUD_snowie_nov, Saved_Data_Path + \"QCLOUD_snowie_nov.nc\", \n",
    "                       mode = 'w', format = 'NETCDF4', group=None, engine=None, encoding=None)"
   ]
  },
  {
   "cell_type": "code",
   "execution_count": null,
   "id": "c32d8832-ab7b-4da5-8cd5-34ef48ad75a7",
   "metadata": {},
   "outputs": [],
   "source": [
    "del QCLOUD_snowie_nov"
   ]
  },
  {
   "cell_type": "code",
   "execution_count": null,
   "id": "b7871407-b92b-4302-b1e9-117c62e61d1e",
   "metadata": {},
   "outputs": [],
   "source": [
    "QCLOUD_snowie_dec = getvar(wrflist[1464:2208], \"QCLOUD\", timeidx=ALL_TIMES, method=\"cat\")\n",
    "QCLOUD_snowie_dec = QCLOUD_snowie_dec.where(mask_lon & mask_lat, drop=True)"
   ]
  },
  {
   "cell_type": "code",
   "execution_count": null,
   "id": "7f9c91af-07f6-46ce-b30d-85c8de3b5b28",
   "metadata": {},
   "outputs": [],
   "source": [
    "write_xarray_to_netcdf(QCLOUD_snowie_dec, Saved_Data_Path + \"QCLOUD_snowie_dec.nc\", \n",
    "                       mode = 'w', format = 'NETCDF4', group=None, engine=None, encoding=None)"
   ]
  },
  {
   "cell_type": "code",
   "execution_count": null,
   "id": "bcf13e95-1da1-4848-8157-e13632d85ad0",
   "metadata": {},
   "outputs": [],
   "source": [
    "del QCLOUD_snowie_dec"
   ]
  },
  {
   "cell_type": "code",
   "execution_count": null,
   "id": "b750e6c8-8ebe-4408-ba1a-282754a1f1b4",
   "metadata": {},
   "outputs": [],
   "source": [
    "QCLOUD_snowie_jan = getvar(wrflist[2208:2952], \"QCLOUD\", timeidx=ALL_TIMES, method=\"cat\")\n",
    "QCLOUD_snowie_jan = QCLOUD_snowie_jan.where(mask_lon & mask_lat, drop=True)"
   ]
  },
  {
   "cell_type": "code",
   "execution_count": null,
   "id": "c7687217-71db-4484-94af-eef8bc026c08",
   "metadata": {},
   "outputs": [],
   "source": [
    "write_xarray_to_netcdf(QCLOUD_snowie_jan, Saved_Data_Path + \"QCLOUD_snowie_jan.nc\", \n",
    "                       mode = 'w', format = 'NETCDF4', group=None, engine=None, encoding=None)"
   ]
  },
  {
   "cell_type": "code",
   "execution_count": null,
   "id": "13d810eb-d808-44cf-9808-e38b6807cb03",
   "metadata": {},
   "outputs": [],
   "source": [
    "del QCLOUD_snowie_jan"
   ]
  },
  {
   "cell_type": "code",
   "execution_count": null,
   "id": "1d08427d-c14e-4ea5-aecd-bd750fc3cba5",
   "metadata": {},
   "outputs": [],
   "source": [
    "QCLOUD_snowie_feb = getvar(wrflist[2952:3624], \"QCLOUD\", timeidx=ALL_TIMES, method=\"cat\")\n",
    "QCLOUD_snowie_feb = QCLOUD_snowie_feb.where(mask_lon & mask_lat, drop=True)"
   ]
  },
  {
   "cell_type": "code",
   "execution_count": null,
   "id": "72b965fd-bbb5-44f4-bc79-5fcbb3a433f8",
   "metadata": {},
   "outputs": [],
   "source": [
    "write_xarray_to_netcdf(QCLOUD_snowie_feb, Saved_Data_Path + \"QCLOUD_snowie_feb.nc\", \n",
    "                       mode = 'w', format = 'NETCDF4', group=None, engine=None, encoding=None)"
   ]
  },
  {
   "cell_type": "code",
   "execution_count": null,
   "id": "ebedf3ae-d8f9-4d99-adb8-4ae3a2502aa7",
   "metadata": {},
   "outputs": [],
   "source": [
    "del QCLOUD_snowie_feb"
   ]
  },
  {
   "cell_type": "code",
   "execution_count": null,
   "id": "1b310f07-ec09-4644-9dfb-100dc28c7e9a",
   "metadata": {},
   "outputs": [],
   "source": [
    "QCLOUD_snowie_mar = getvar(wrflist[3624:4368], \"QCLOUD\", timeidx=ALL_TIMES, method=\"cat\")\n",
    "QCLOUD_snowie_mar = QCLOUD_snowie_mar.where(mask_lon & mask_lat, drop=True)"
   ]
  },
  {
   "cell_type": "code",
   "execution_count": null,
   "id": "6db584e9-07e0-4101-9e9e-067fcae7da49",
   "metadata": {},
   "outputs": [],
   "source": [
    "write_xarray_to_netcdf(QCLOUD_snowie_mar, Saved_Data_Path + \"QCLOUD_snowie_mar.nc\", \n",
    "                       mode = 'w', format = 'NETCDF4', group=None, engine=None, encoding=None)"
   ]
  },
  {
   "cell_type": "code",
   "execution_count": null,
   "id": "651b87bc-6692-44d6-837d-930e1a1cb3f6",
   "metadata": {},
   "outputs": [],
   "source": [
    "del QCLOUD_snowie_mar"
   ]
  },
  {
   "cell_type": "code",
   "execution_count": null,
   "id": "582ef959-3cea-4f2b-a4e3-148f5cb6dd06",
   "metadata": {},
   "outputs": [],
   "source": [
    "QCLOUD_snowie_apr = getvar(wrflist[4368:5088], \"QCLOUD\", timeidx=ALL_TIMES, method=\"cat\")\n",
    "QCLOUD_snowie_apr = QCLOUD_snowie_apr.where(mask_lon & mask_lat, drop=True)"
   ]
  },
  {
   "cell_type": "code",
   "execution_count": null,
   "id": "8f64eee5-ee80-4624-bb6f-40d1b0a98426",
   "metadata": {},
   "outputs": [],
   "source": [
    "write_xarray_to_netcdf(QCLOUD_snowie_apr, Saved_Data_Path + \"QCLOUD_snowie_apr.nc\", \n",
    "                       mode = 'w', format = 'NETCDF4', group=None, engine=None, encoding=None)"
   ]
  },
  {
   "cell_type": "code",
   "execution_count": null,
   "id": "932ddf47-10b0-4119-bf2b-066a8d43aa43",
   "metadata": {},
   "outputs": [],
   "source": [
    "del QCLOUD_snowie_apr"
   ]
  },
  {
   "cell_type": "markdown",
   "id": "d410925b-6a65-4238-823f-7b08e49faf10",
   "metadata": {
    "jp-MarkdownHeadingCollapsed": true,
    "tags": []
   },
   "source": [
    "## **Grab CLDFRA Data Month by Month -- Store to Scratch**"
   ]
  },
  {
   "cell_type": "markdown",
   "id": "ea5aa7c2-61ad-4e1e-b2bc-e15a5120f7e5",
   "metadata": {},
   "source": [
    "**Load Mask Info**"
   ]
  },
  {
   "cell_type": "code",
   "execution_count": null,
   "id": "7d454939-cb1e-4ba3-bb18-c19a1f0b819c",
   "metadata": {},
   "outputs": [],
   "source": [
    "dummy_file = Dataset(SNOWIE_Data_Path + '/wrfout_d02_2016-10-01_00:00:00')\n",
    "cartopy_dom = getvar(dummy_file, \"ter\")\n",
    "\n",
    "lat_min = 43\n",
    "lat_max = 46\n",
    "lon_min = -117\n",
    "lon_max = -111\n",
    "\n",
    "mask_lon = (cartopy_dom.XLONG >= lon_min) & (cartopy_dom.XLONG <= lon_max)\n",
    "mask_lat = (cartopy_dom.XLAT >= lat_min) & (cartopy_dom.XLAT <= lat_max)\n",
    "\n",
    "del dummy_file, cartopy_dom"
   ]
  },
  {
   "cell_type": "code",
   "execution_count": null,
   "id": "3485a30e-3c15-4084-8417-11dd601c100c",
   "metadata": {},
   "outputs": [],
   "source": [
    "CLDFRA_snowie_oct = getvar(wrflist[0:744], \"CLDFRA\", timeidx=ALL_TIMES, method=\"cat\")\n",
    "CLDFRA_snowie_oct = CLDFRA_snowie_oct.where(mask_lon & mask_lat, drop=True)\n",
    "\n",
    "write_xarray_to_netcdf(CLDFRA_snowie_oct, Saved_Data_Path + \"CLDFRA_snowie_oct.nc\", \n",
    "                       mode = 'w', format = 'NETCDF4', group=None, engine=None, encoding=None)\n",
    "\n",
    "del CLDFRA_snowie_oct\n",
    "\n",
    "CLDFRA_snowie_nov = getvar(wrflist[744:1464], \"CLDFRA\", timeidx=ALL_TIMES, method=\"cat\")\n",
    "CLDFRA_snowie_nov = CLDFRA_snowie_nov.where(mask_lon & mask_lat, drop=True)\n",
    "\n",
    "write_xarray_to_netcdf(CLDFRA_snowie_nov, Saved_Data_Path + \"CLDFRA_snowie_nov.nc\", \n",
    "                       mode = 'w', format = 'NETCDF4', group=None, engine=None, encoding=None)\n",
    "\n",
    "del CLDFRA_snowie_nov\n",
    "\n",
    "CLDFRA_snowie_dec = getvar(wrflist[1464:2208], \"CLDFRA\", timeidx=ALL_TIMES, method=\"cat\")\n",
    "CLDFRA_snowie_dec = CLDFRA_snowie_dec.where(mask_lon & mask_lat, drop=True)\n",
    "\n",
    "write_xarray_to_netcdf(CLDFRA_snowie_dec, Saved_Data_Path + \"CLDFRA_snowie_dec.nc\", \n",
    "                       mode = 'w', format = 'NETCDF4', group=None, engine=None, encoding=None)\n",
    "\n",
    "del CLDFRA_snowie_dec\n",
    "\n",
    "CLDFRA_snowie_jan = getvar(wrflist[2208:2952], \"CLDFRA\", timeidx=ALL_TIMES, method=\"cat\")\n",
    "CLDFRA_snowie_jan = CLDFRA_snowie_jan.where(mask_lon & mask_lat, drop=True)\n",
    "\n",
    "write_xarray_to_netcdf(CLDFRA_snowie_jan, Saved_Data_Path + \"CLDFRA_snowie_jan.nc\", \n",
    "                       mode = 'w', format = 'NETCDF4', group=None, engine=None, encoding=None)\n",
    "\n",
    "del CLDFRA_snowie_jan\n",
    "\n",
    "CLDFRA_snowie_feb = getvar(wrflist[2952:3624], \"CLDFRA\", timeidx=ALL_TIMES, method=\"cat\")\n",
    "CLDFRA_snowie_feb = CLDFRA_snowie_feb.where(mask_lon & mask_lat, drop=True)\n",
    "\n",
    "write_xarray_to_netcdf(CLDFRA_snowie_feb, Saved_Data_Path + \"CLDFRA_snowie_feb.nc\", \n",
    "                       mode = 'w', format = 'NETCDF4', group=None, engine=None, encoding=None)\n",
    "\n",
    "del CLDFRA_snowie_feb\n",
    "\n",
    "CLDFRA_snowie_mar = getvar(wrflist[3624:4368], \"CLDFRA\", timeidx=ALL_TIMES, method=\"cat\")\n",
    "CLDFRA_snowie_mar = CLDFRA_snowie_mar.where(mask_lon & mask_lat, drop=True)\n",
    "\n",
    "write_xarray_to_netcdf(CLDFRA_snowie_mar, Saved_Data_Path + \"CLDFRA_snowie_mar.nc\", \n",
    "                       mode = 'w', format = 'NETCDF4', group=None, engine=None, encoding=None)\n",
    "\n",
    "del CLDFRA_snowie_mar\n",
    "\n",
    "CLDFRA_snowie_apr = getvar(wrflist[4368:5088], \"CLDFRA\", timeidx=ALL_TIMES, method=\"cat\")\n",
    "CLDFRA_snowie_apr = CLDFRA_snowie_apr.where(mask_lon & mask_lat, drop=True)\n",
    "\n",
    "write_xarray_to_netcdf(CLDFRA_snowie_apr, Saved_Data_Path + \"CLDFRA_snowie_apr.nc\", \n",
    "                       mode = 'w', format = 'NETCDF4', group=None, engine=None, encoding=None)\n",
    "\n",
    "del CLDFRA_snowie_apr"
   ]
  },
  {
   "cell_type": "markdown",
   "id": "5bd7ae0c-6821-404b-a0b4-26cfea1a17a2",
   "metadata": {
    "jp-MarkdownHeadingCollapsed": true,
    "tags": []
   },
   "source": [
    "## **Grab QSNOW Data Month by Month -- Store to Scratch**"
   ]
  },
  {
   "cell_type": "markdown",
   "id": "6b2311fc-5c5a-45b7-8540-3bb24a72c144",
   "metadata": {},
   "source": [
    "**Load Mask Info**"
   ]
  },
  {
   "cell_type": "code",
   "execution_count": null,
   "id": "8d99d3b5-c418-4fe8-892e-ec76a05eb2f1",
   "metadata": {},
   "outputs": [],
   "source": [
    "dummy_file = Dataset(SNOWIE_Data_Path + '/wrfout_d02_2016-10-01_00:00:00')\n",
    "cartopy_dom = getvar(dummy_file, \"ter\")\n",
    "\n",
    "lat_min = 43\n",
    "lat_max = 46\n",
    "lon_min = -117\n",
    "lon_max = -111\n",
    "\n",
    "mask_lon = (cartopy_dom.XLONG >= lon_min) & (cartopy_dom.XLONG <= lon_max)\n",
    "mask_lat = (cartopy_dom.XLAT >= lat_min) & (cartopy_dom.XLAT <= lat_max)\n",
    "\n",
    "del dummy_file, cartopy_dom"
   ]
  },
  {
   "cell_type": "code",
   "execution_count": null,
   "id": "2e39a3e6-63fc-43ca-8691-a7f2c26ee0d0",
   "metadata": {},
   "outputs": [],
   "source": [
    "QSNOW_snowie_oct = getvar(wrflist[0:744], \"QSNOW\", timeidx=ALL_TIMES, method=\"cat\")\n",
    "QSNOW_snowie_oct = QSNOW_snowie_oct.where(mask_lon & mask_lat, drop=True)\n",
    "\n",
    "write_xarray_to_netcdf(QSNOW_snowie_oct, Saved_Data_Path + \"QSNOW_snowie_oct.nc\", \n",
    "                       mode = 'w', format = 'NETCDF4', group=None, engine=None, encoding=None)\n",
    "\n",
    "del QSNOW_snowie_oct\n",
    "\n",
    "QSNOW_snowie_nov = getvar(wrflist[744:1464], \"QSNOW\", timeidx=ALL_TIMES, method=\"cat\")\n",
    "QSNOW_snowie_nov = QSNOW_snowie_nov.where(mask_lon & mask_lat, drop=True)\n",
    "\n",
    "write_xarray_to_netcdf(QSNOW_snowie_nov, Saved_Data_Path + \"QSNOW_snowie_nov.nc\", \n",
    "                       mode = 'w', format = 'NETCDF4', group=None, engine=None, encoding=None)\n",
    "\n",
    "del QSNOW_snowie_nov\n",
    "\n",
    "QSNOW_snowie_dec = getvar(wrflist[1464:2208], \"QSNOW\", timeidx=ALL_TIMES, method=\"cat\")\n",
    "QSNOW_snowie_dec = QSNOW_snowie_dec.where(mask_lon & mask_lat, drop=True)\n",
    "\n",
    "write_xarray_to_netcdf(QSNOW_snowie_dec, Saved_Data_Path + \"QSNOW_snowie_dec.nc\", \n",
    "                       mode = 'w', format = 'NETCDF4', group=None, engine=None, encoding=None)\n",
    "\n",
    "del QSNOW_snowie_dec\n",
    "\n",
    "QSNOW_snowie_jan = getvar(wrflist[2208:2952], \"QSNOW\", timeidx=ALL_TIMES, method=\"cat\")\n",
    "QSNOW_snowie_jan = QSNOW_snowie_jan.where(mask_lon & mask_lat, drop=True)\n",
    "\n",
    "write_xarray_to_netcdf(QSNOW_snowie_jan, Saved_Data_Path + \"QSNOW_snowie_jan.nc\", \n",
    "                       mode = 'w', format = 'NETCDF4', group=None, engine=None, encoding=None)\n",
    "\n",
    "del QSNOW_snowie_jan\n",
    "\n",
    "QSNOW_snowie_feb = getvar(wrflist[2952:3624], \"QSNOW\", timeidx=ALL_TIMES, method=\"cat\")\n",
    "QSNOW_snowie_feb = QSNOW_snowie_feb.where(mask_lon & mask_lat, drop=True)\n",
    "\n",
    "write_xarray_to_netcdf(QSNOW_snowie_feb, Saved_Data_Path + \"QSNOW_snowie_feb.nc\", \n",
    "                       mode = 'w', format = 'NETCDF4', group=None, engine=None, encoding=None)\n",
    "\n",
    "del QSNOW_snowie_feb\n",
    "\n",
    "QSNOW_snowie_mar = getvar(wrflist[3624:4368], \"QSNOW\", timeidx=ALL_TIMES, method=\"cat\")\n",
    "QSNOW_snowie_mar = QSNOW_snowie_mar.where(mask_lon & mask_lat, drop=True)\n",
    "\n",
    "write_xarray_to_netcdf(QSNOW_snowie_mar, Saved_Data_Path + \"QSNOW_snowie_mar.nc\", \n",
    "                       mode = 'w', format = 'NETCDF4', group=None, engine=None, encoding=None)\n",
    "\n",
    "del QSNOW_snowie_mar\n",
    "\n",
    "QSNOW_snowie_apr = getvar(wrflist[4368:5088], \"QSNOW\", timeidx=ALL_TIMES, method=\"cat\")\n",
    "QSNOW_snowie_apr = QSNOW_snowie_apr.where(mask_lon & mask_lat, drop=True)\n",
    "\n",
    "write_xarray_to_netcdf(QSNOW_snowie_apr, Saved_Data_Path + \"QSNOW_snowie_apr.nc\", \n",
    "                       mode = 'w', format = 'NETCDF4', group=None, engine=None, encoding=None)\n",
    "\n",
    "del QSNOW_snowie_apr"
   ]
  },
  {
   "cell_type": "markdown",
   "id": "cb3f5ccb-a1c4-4b71-9eef-d04fd09dddc1",
   "metadata": {
    "jp-MarkdownHeadingCollapsed": true,
    "tags": []
   },
   "source": [
    "## **Grab Z Data Month by Month -- Store to Scratch**"
   ]
  },
  {
   "cell_type": "markdown",
   "id": "36a420e9-0c7d-4a8e-b155-5f5b9c073b5e",
   "metadata": {},
   "source": [
    "**Load Mask Info**"
   ]
  },
  {
   "cell_type": "code",
   "execution_count": null,
   "id": "66e14db9-b94e-469d-abed-0352e1c038ab",
   "metadata": {},
   "outputs": [],
   "source": [
    "dummy_file = Dataset(SNOWIE_Data_Path + '/wrfout_d02_2016-10-01_00:00:00')\n",
    "cartopy_dom = getvar(dummy_file, \"ter\")\n",
    "\n",
    "lat_min = 43\n",
    "lat_max = 46\n",
    "lon_min = -117\n",
    "lon_max = -111\n",
    "\n",
    "mask_lon = (cartopy_dom.XLONG >= lon_min) & (cartopy_dom.XLONG <= lon_max)\n",
    "mask_lat = (cartopy_dom.XLAT >= lat_min) & (cartopy_dom.XLAT <= lat_max)\n",
    "\n",
    "del dummy_file, cartopy_dom"
   ]
  },
  {
   "cell_type": "code",
   "execution_count": null,
   "id": "3433e631-3fec-41e8-8f28-e3b5038dca1e",
   "metadata": {},
   "outputs": [],
   "source": [
    "# z_snowie_oct = getvar(wrflist[0:744], \"z\", timeidx=ALL_TIMES, method=\"cat\")\n",
    "# z_snowie_oct = z_snowie_oct.where(mask_lon & mask_lat, drop=True)\n",
    "\n",
    "# write_xarray_to_netcdf(z_snowie_oct, Saved_Data_Path + \"z_snowie_oct.nc\", \n",
    "#                        mode = 'w', format = 'NETCDF4', group=None, engine=None, encoding=None)\n",
    "\n",
    "# del z_snowie_oct\n",
    "\n",
    "# z_snowie_nov = getvar(wrflist[744:1464], \"z\", timeidx=ALL_TIMES, method=\"cat\")\n",
    "# z_snowie_nov = z_snowie_nov.where(mask_lon & mask_lat, drop=True)\n",
    "\n",
    "# write_xarray_to_netcdf(z_snowie_nov, Saved_Data_Path + \"z_snowie_nov.nc\", \n",
    "#                        mode = 'w', format = 'NETCDF4', group=None, engine=None, encoding=None)\n",
    "\n",
    "# del z_snowie_nov\n",
    "\n",
    "z_snowie_dec = getvar(wrflist[1464:2208], \"z\", timeidx=ALL_TIMES, method=\"cat\")\n",
    "z_snowie_dec = z_snowie_dec.where(mask_lon & mask_lat, drop=True)\n",
    "\n",
    "write_xarray_to_netcdf(z_snowie_dec, Saved_Data_Path + \"z_snowie_dec.nc\", \n",
    "                       mode = 'w', format = 'NETCDF4', group=None, engine=None, encoding=None)\n",
    "\n",
    "del z_snowie_dec\n",
    "\n",
    "z_snowie_jan = getvar(wrflist[2208:2952], \"z\", timeidx=ALL_TIMES, method=\"cat\")\n",
    "z_snowie_jan = z_snowie_jan.where(mask_lon & mask_lat, drop=True)\n",
    "\n",
    "write_xarray_to_netcdf(z_snowie_jan, Saved_Data_Path + \"z_snowie_jan.nc\", \n",
    "                       mode = 'w', format = 'NETCDF4', group=None, engine=None, encoding=None)\n",
    "\n",
    "del z_snowie_jan\n",
    "\n",
    "z_snowie_feb = getvar(wrflist[2952:3624], \"z\", timeidx=ALL_TIMES, method=\"cat\")\n",
    "z_snowie_feb = z_snowie_feb.where(mask_lon & mask_lat, drop=True)\n",
    "\n",
    "write_xarray_to_netcdf(z_snowie_feb, Saved_Data_Path + \"z_snowie_feb.nc\", \n",
    "                       mode = 'w', format = 'NETCDF4', group=None, engine=None, encoding=None)\n",
    "\n",
    "del z_snowie_feb\n",
    "\n",
    "z_snowie_mar = getvar(wrflist[3624:4368], \"z\", timeidx=ALL_TIMES, method=\"cat\")\n",
    "z_snowie_mar = z_snowie_mar.where(mask_lon & mask_lat, drop=True)\n",
    "\n",
    "write_xarray_to_netcdf(z_snowie_mar, Saved_Data_Path + \"z_snowie_mar.nc\", \n",
    "                       mode = 'w', format = 'NETCDF4', group=None, engine=None, encoding=None)\n",
    "\n",
    "del z_snowie_mar\n",
    "\n",
    "z_snowie_apr = getvar(wrflist[4368:5088], \"z\", timeidx=ALL_TIMES, method=\"cat\")\n",
    "z_snowie_apr = z_snowie_apr.where(mask_lon & mask_lat, drop=True)\n",
    "\n",
    "write_xarray_to_netcdf(z_snowie_apr, Saved_Data_Path + \"z_snowie_apr.nc\", \n",
    "                       mode = 'w', format = 'NETCDF4', group=None, engine=None, encoding=None)\n",
    "\n",
    "del z_snowie_apr"
   ]
  },
  {
   "cell_type": "markdown",
   "id": "c431cb3a-5eb1-4b5b-b99d-bb55d9efc0cf",
   "metadata": {
    "jp-MarkdownHeadingCollapsed": true,
    "tags": []
   },
   "source": [
    "## **Grab Temperature Data Month by Month -- Store to Scratch**"
   ]
  },
  {
   "cell_type": "code",
   "execution_count": null,
   "id": "f7052c6d-88d5-47fd-b4c0-02b82ba2ff01",
   "metadata": {},
   "outputs": [],
   "source": [
    "dummy_file = Dataset(SNOWIE_Data_Path + '/wrfout_d02_2016-10-01_00:00:00')\n",
    "cartopy_dom = getvar(dummy_file, \"ter\")\n",
    "\n",
    "lat_min = 43\n",
    "lat_max = 46\n",
    "lon_min = -117\n",
    "lon_max = -111\n",
    "\n",
    "mask_lon = (cartopy_dom.XLONG >= lon_min) & (cartopy_dom.XLONG <= lon_max)\n",
    "mask_lat = (cartopy_dom.XLAT >= lat_min) & (cartopy_dom.XLAT <= lat_max)\n",
    "\n",
    "del dummy_file, cartopy_dom"
   ]
  },
  {
   "cell_type": "code",
   "execution_count": null,
   "id": "8e8f87b2-ec7c-4afc-86d7-d81629cae9b4",
   "metadata": {},
   "outputs": [],
   "source": [
    "temp_snowie_oct = getvar(wrflist[0:744], \"temp\", timeidx=ALL_TIMES, method=\"cat\")\n",
    "temp_snowie_oct = temp_snowie_oct.where(mask_lon & mask_lat, drop=True)\n",
    "\n",
    "write_xarray_to_netcdf(temp_snowie_oct, Saved_Data_Path + \"temp_snowie_oct.nc\", \n",
    "                       mode = 'w', format = 'NETCDF4', group=None, engine=None, encoding=None)\n",
    "\n",
    "del temp_snowie_oct\n",
    "\n",
    "temp_snowie_nov = getvar(wrflist[744:1464], \"temp\", timeidx=ALL_TIMES, method=\"cat\")\n",
    "temp_snowie_nov = temp_snowie_nov.where(mask_lon & mask_lat, drop=True)\n",
    "\n",
    "write_xarray_to_netcdf(temp_snowie_nov, Saved_Data_Path + \"temp_snowie_nov.nc\", \n",
    "                       mode = 'w', format = 'NETCDF4', group=None, engine=None, encoding=None)\n",
    "\n",
    "del temp_snowie_nov\n",
    "\n",
    "temp_snowie_dec = getvar(wrflist[1464:2208], \"temp\", timeidx=ALL_TIMES, method=\"cat\")\n",
    "temp_snowie_dec = temp_snowie_dec.where(mask_lon & mask_lat, drop=True)\n",
    "\n",
    "write_xarray_to_netcdf(temp_snowie_dec, Saved_Data_Path + \"temp_snowie_dec.nc\", \n",
    "                       mode = 'w', format = 'NETCDF4', group=None, engine=None, encoding=None)\n",
    "\n",
    "del temp_snowie_dec\n",
    "\n",
    "temp_snowie_jan = getvar(wrflist[2208:2952], \"temp\", timeidx=ALL_TIMES, method=\"cat\")\n",
    "temp_snowie_jan = temp_snowie_jan.where(mask_lon & mask_lat, drop=True)\n",
    "\n",
    "write_xarray_to_netcdf(temp_snowie_jan, Saved_Data_Path + \"temp_snowie_jan.nc\", \n",
    "                       mode = 'w', format = 'NETCDF4', group=None, engine=None, encoding=None)\n",
    "\n",
    "del temp_snowie_jan\n",
    "\n",
    "temp_snowie_feb = getvar(wrflist[2952:3624], \"temp\", timeidx=ALL_TIMES, method=\"cat\")\n",
    "temp_snowie_feb = temp_snowie_feb.where(mask_lon & mask_lat, drop=True)\n",
    "\n",
    "write_xarray_to_netcdf(temp_snowie_feb, Saved_Data_Path + \"temp_snowie_feb.nc\", \n",
    "                       mode = 'w', format = 'NETCDF4', group=None, engine=None, encoding=None)\n",
    "\n",
    "del temp_snowie_feb\n",
    "\n",
    "temp_snowie_mar = getvar(wrflist[3624:4368], \"temp\", timeidx=ALL_TIMES, method=\"cat\")\n",
    "temp_snowie_mar = temp_snowie_mar.where(mask_lon & mask_lat, drop=True)\n",
    "\n",
    "write_xarray_to_netcdf(temp_snowie_mar, Saved_Data_Path + \"temp_snowie_mar.nc\", \n",
    "                       mode = 'w', format = 'NETCDF4', group=None, engine=None, encoding=None)\n",
    "\n",
    "del temp_snowie_mar\n",
    "\n",
    "temp_snowie_apr = getvar(wrflist[4368:5088], \"temp\", timeidx=ALL_TIMES, method=\"cat\")\n",
    "temp_snowie_apr = temp_snowie_apr.where(mask_lon & mask_lat, drop=True)\n",
    "\n",
    "write_xarray_to_netcdf(temp_snowie_apr, Saved_Data_Path + \"temp_snowie_apr.nc\", \n",
    "                       mode = 'w', format = 'NETCDF4', group=None, engine=None, encoding=None)\n",
    "\n",
    "del temp_snowie_apr"
   ]
  },
  {
   "cell_type": "markdown",
   "id": "835d6694-00f8-482a-b754-41d06b3b3879",
   "metadata": {
    "jp-MarkdownHeadingCollapsed": true,
    "tags": []
   },
   "source": [
    "## **Grab QRAIN Data Month by Month -- Store to Scratch**"
   ]
  },
  {
   "cell_type": "code",
   "execution_count": null,
   "id": "50a0c447-7bc3-46ae-8569-1e4e9ad107d9",
   "metadata": {},
   "outputs": [],
   "source": [
    "dummy_file = Dataset(SNOWIE_Data_Path + '/wrfout_d02_2016-10-01_00:00:00')\n",
    "cartopy_dom = getvar(dummy_file, \"ter\")\n",
    "\n",
    "lat_min = 43\n",
    "lat_max = 46\n",
    "lon_min = -117\n",
    "lon_max = -111\n",
    "\n",
    "mask_lon = (cartopy_dom.XLONG >= lon_min) & (cartopy_dom.XLONG <= lon_max)\n",
    "mask_lat = (cartopy_dom.XLAT >= lat_min) & (cartopy_dom.XLAT <= lat_max)\n",
    "\n",
    "del dummy_file, cartopy_dom"
   ]
  },
  {
   "cell_type": "code",
   "execution_count": null,
   "id": "26fd1c27-dc04-4368-aed0-dd1fd55edfb4",
   "metadata": {},
   "outputs": [],
   "source": [
    "QRAIN_snowie_oct = getvar(wrflist[0:744], \"QRAIN\", timeidx=ALL_TIMES, method=\"cat\")\n",
    "QRAIN_snowie_oct = QRAIN_snowie_oct.where(mask_lon & mask_lat, drop=True)\n",
    "\n",
    "write_xarray_to_netcdf(QRAIN_snowie_oct, Saved_Data_Path + \"QRAIN_snowie_oct.nc\", \n",
    "                       mode = 'w', format = 'NETCDF4', group=None, engine=None, encoding=None)\n",
    "\n",
    "del QRAIN_snowie_oct\n",
    "\n",
    "QRAIN_snowie_nov = getvar(wrflist[744:1464], \"QRAIN\", timeidx=ALL_TIMES, method=\"cat\")\n",
    "QRAIN_snowie_nov = QRAIN_snowie_nov.where(mask_lon & mask_lat, drop=True)\n",
    "\n",
    "write_xarray_to_netcdf(QRAIN_snowie_nov, Saved_Data_Path + \"QRAIN_snowie_nov.nc\", \n",
    "                       mode = 'w', format = 'NETCDF4', group=None, engine=None, encoding=None)\n",
    "\n",
    "del QRAIN_snowie_nov\n",
    "\n",
    "QRAIN_snowie_dec = getvar(wrflist[1464:2208], \"QRAIN\", timeidx=ALL_TIMES, method=\"cat\")\n",
    "QRAIN_snowie_dec = QRAIN_snowie_dec.where(mask_lon & mask_lat, drop=True)\n",
    "\n",
    "write_xarray_to_netcdf(QRAIN_snowie_dec, Saved_Data_Path + \"QRAIN_snowie_dec.nc\", \n",
    "                       mode = 'w', format = 'NETCDF4', group=None, engine=None, encoding=None)\n",
    "\n",
    "del QRAIN_snowie_dec\n",
    "\n",
    "QRAIN_snowie_jan = getvar(wrflist[2208:2952], \"QRAIN\", timeidx=ALL_TIMES, method=\"cat\")\n",
    "QRAIN_snowie_jan = QRAIN_snowie_jan.where(mask_lon & mask_lat, drop=True)\n",
    "\n",
    "write_xarray_to_netcdf(QRAIN_snowie_jan, Saved_Data_Path + \"QRAIN_snowie_jan.nc\", \n",
    "                       mode = 'w', format = 'NETCDF4', group=None, engine=None, encoding=None)\n",
    "\n",
    "del QRAIN_snowie_jan\n",
    "\n",
    "QRAIN_snowie_feb = getvar(wrflist[2952:3624], \"QRAIN\", timeidx=ALL_TIMES, method=\"cat\")\n",
    "QRAIN_snowie_feb = QRAIN_snowie_feb.where(mask_lon & mask_lat, drop=True)\n",
    "\n",
    "write_xarray_to_netcdf(QRAIN_snowie_feb, Saved_Data_Path + \"QRAIN_snowie_feb.nc\", \n",
    "                       mode = 'w', format = 'NETCDF4', group=None, engine=None, encoding=None)\n",
    "\n",
    "del QRAIN_snowie_feb\n",
    "\n",
    "QRAIN_snowie_mar = getvar(wrflist[3624:4368], \"QRAIN\", timeidx=ALL_TIMES, method=\"cat\")\n",
    "QRAIN_snowie_mar = QRAIN_snowie_mar.where(mask_lon & mask_lat, drop=True)\n",
    "\n",
    "write_xarray_to_netcdf(QRAIN_snowie_mar, Saved_Data_Path + \"QRAIN_snowie_mar.nc\", \n",
    "                       mode = 'w', format = 'NETCDF4', group=None, engine=None, encoding=None)\n",
    "\n",
    "del QRAIN_snowie_mar\n",
    "\n",
    "QRAIN_snowie_apr = getvar(wrflist[4368:5088], \"QRAIN\", timeidx=ALL_TIMES, method=\"cat\")\n",
    "QRAIN_snowie_apr = QRAIN_snowie_apr.where(mask_lon & mask_lat, drop=True)\n",
    "\n",
    "write_xarray_to_netcdf(QRAIN_snowie_apr, Saved_Data_Path + \"QRAIN_snowie_apr.nc\", \n",
    "                       mode = 'w', format = 'NETCDF4', group=None, engine=None, encoding=None)\n",
    "\n",
    "del QRAIN_snowie_apr"
   ]
  },
  {
   "cell_type": "markdown",
   "id": "6c884bb5-6897-46d9-b45c-4fc5708f02f0",
   "metadata": {
    "jp-MarkdownHeadingCollapsed": true,
    "tags": []
   },
   "source": [
    "## **Grab QGRAUPEL Data Month by Month -- Store to Scratch**"
   ]
  },
  {
   "cell_type": "code",
   "execution_count": null,
   "id": "fdc53bca-0b1a-46c2-a245-d29f60b1ee1e",
   "metadata": {},
   "outputs": [],
   "source": [
    "dummy_file = Dataset(SNOWIE_Data_Path + '/wrfout_d02_2016-10-01_00:00:00')\n",
    "cartopy_dom = getvar(dummy_file, \"ter\")\n",
    "\n",
    "lat_min = 43\n",
    "lat_max = 46\n",
    "lon_min = -117\n",
    "lon_max = -111\n",
    "\n",
    "mask_lon = (cartopy_dom.XLONG >= lon_min) & (cartopy_dom.XLONG <= lon_max)\n",
    "mask_lat = (cartopy_dom.XLAT >= lat_min) & (cartopy_dom.XLAT <= lat_max)\n",
    "\n",
    "del dummy_file, cartopy_dom"
   ]
  },
  {
   "cell_type": "code",
   "execution_count": null,
   "id": "60bcc7a9-29fd-443c-bf18-5aeac1de2b15",
   "metadata": {},
   "outputs": [],
   "source": [
    "QGRAUP_snowie_oct = getvar(wrflist[0:744], \"QGRAUP\", timeidx=ALL_TIMES, method=\"cat\")\n",
    "QGRAUP_snowie_oct = QGRAUP_snowie_oct.where(mask_lon & mask_lat, drop=True)\n",
    "\n",
    "write_xarray_to_netcdf(QGRAUP_snowie_oct, Saved_Data_Path + \"QGRAUP_snowie_oct.nc\", \n",
    "                       mode = 'w', format = 'NETCDF4', group=None, engine=None, encoding=None)\n",
    "\n",
    "del QGRAUP_snowie_oct\n",
    "\n",
    "QGRAUP_snowie_nov = getvar(wrflist[744:1464], \"QGRAUP\", timeidx=ALL_TIMES, method=\"cat\")\n",
    "QGRAUP_snowie_nov = QGRAUP_snowie_nov.where(mask_lon & mask_lat, drop=True)\n",
    "\n",
    "write_xarray_to_netcdf(QGRAUP_snowie_nov, Saved_Data_Path + \"QGRAUP_snowie_nov.nc\", \n",
    "                       mode = 'w', format = 'NETCDF4', group=None, engine=None, encoding=None)\n",
    "\n",
    "del QGRAUP_snowie_nov\n",
    "\n",
    "QGRAUP_snowie_dec = getvar(wrflist[1464:2208], \"QGRAUP\", timeidx=ALL_TIMES, method=\"cat\")\n",
    "QGRAUP_snowie_dec = QGRAUP_snowie_dec.where(mask_lon & mask_lat, drop=True)\n",
    "\n",
    "write_xarray_to_netcdf(QGRAUP_snowie_dec, Saved_Data_Path + \"QGRAUP_snowie_dec.nc\", \n",
    "                       mode = 'w', format = 'NETCDF4', group=None, engine=None, encoding=None)\n",
    "\n",
    "del QGRAUP_snowie_dec\n",
    "\n",
    "QGRAUP_snowie_jan = getvar(wrflist[2208:2952], \"QGRAUP\", timeidx=ALL_TIMES, method=\"cat\")\n",
    "QGRAUP_snowie_jan = QGRAUP_snowie_jan.where(mask_lon & mask_lat, drop=True)\n",
    "\n",
    "write_xarray_to_netcdf(QGRAUP_snowie_jan, Saved_Data_Path + \"QGRAUP_snowie_jan.nc\", \n",
    "                       mode = 'w', format = 'NETCDF4', group=None, engine=None, encoding=None)\n",
    "\n",
    "del QGRAUP_snowie_jan\n",
    "\n",
    "QGRAUP_snowie_feb = getvar(wrflist[2952:3624], \"QGRAUP\", timeidx=ALL_TIMES, method=\"cat\")\n",
    "QGRAUP_snowie_feb = QGRAUP_snowie_feb.where(mask_lon & mask_lat, drop=True)\n",
    "\n",
    "write_xarray_to_netcdf(QGRAUP_snowie_feb, Saved_Data_Path + \"QGRAUP_snowie_feb.nc\", \n",
    "                       mode = 'w', format = 'NETCDF4', group=None, engine=None, encoding=None)\n",
    "\n",
    "del QGRAUP_snowie_feb\n",
    "\n",
    "QGRAUP_snowie_mar = getvar(wrflist[3624:4368], \"QGRAUP\", timeidx=ALL_TIMES, method=\"cat\")\n",
    "QGRAUP_snowie_mar = QGRAUP_snowie_mar.where(mask_lon & mask_lat, drop=True)\n",
    "\n",
    "write_xarray_to_netcdf(QGRAUP_snowie_mar, Saved_Data_Path + \"QGRAUP_snowie_mar.nc\", \n",
    "                       mode = 'w', format = 'NETCDF4', group=None, engine=None, encoding=None)\n",
    "\n",
    "del QGRAUP_snowie_mar\n",
    "\n",
    "QGRAUP_snowie_apr = getvar(wrflist[4368:5088], \"QGRAUP\", timeidx=ALL_TIMES, method=\"cat\")\n",
    "QGRAUP_snowie_apr = QGRAUP_snowie_apr.where(mask_lon & mask_lat, drop=True)\n",
    "\n",
    "write_xarray_to_netcdf(QGRAUP_snowie_apr, Saved_Data_Path + \"QGRAUP_snowie_apr.nc\", \n",
    "                       mode = 'w', format = 'NETCDF4', group=None, engine=None, encoding=None)\n",
    "\n",
    "del QGRAUP_snowie_apr"
   ]
  },
  {
   "cell_type": "markdown",
   "id": "6b8f7a5e-3d6c-4db8-9740-64882a182af1",
   "metadata": {
    "jp-MarkdownHeadingCollapsed": true,
    "tags": []
   },
   "source": [
    "## **Grab QICE Data Month by Month -- Store to Scratch**"
   ]
  },
  {
   "cell_type": "code",
   "execution_count": null,
   "id": "d0febff2-f5e4-4624-9239-8ca328be0913",
   "metadata": {},
   "outputs": [],
   "source": [
    "dummy_file = Dataset(SNOWIE_Data_Path + '/wrfout_d02_2016-10-01_00:00:00')\n",
    "cartopy_dom = getvar(dummy_file, \"ter\")\n",
    "\n",
    "lat_min = 43\n",
    "lat_max = 46\n",
    "lon_min = -117\n",
    "lon_max = -111\n",
    "\n",
    "mask_lon = (cartopy_dom.XLONG >= lon_min) & (cartopy_dom.XLONG <= lon_max)\n",
    "mask_lat = (cartopy_dom.XLAT >= lat_min) & (cartopy_dom.XLAT <= lat_max)\n",
    "\n",
    "del dummy_file, cartopy_dom"
   ]
  },
  {
   "cell_type": "code",
   "execution_count": null,
   "id": "1a9bed4e-ecae-4f93-9999-07a056f3b73b",
   "metadata": {},
   "outputs": [],
   "source": [
    "QICE_snowie_oct = getvar(wrflist[0:744], \"QICE\", timeidx=ALL_TIMES, method=\"cat\")\n",
    "QICE_snowie_oct = QICE_snowie_oct.where(mask_lon & mask_lat, drop=True)\n",
    "\n",
    "write_xarray_to_netcdf(QICE_snowie_oct, Saved_Data_Path + \"QICE_snowie_oct.nc\", \n",
    "                       mode = 'w', format = 'NETCDF4', group=None, engine=None, encoding=None)\n",
    "\n",
    "del QICE_snowie_oct\n",
    "\n",
    "QICE_snowie_nov = getvar(wrflist[744:1464], \"QICE\", timeidx=ALL_TIMES, method=\"cat\")\n",
    "QICE_snowie_nov = QICE_snowie_nov.where(mask_lon & mask_lat, drop=True)\n",
    "\n",
    "write_xarray_to_netcdf(QICE_snowie_nov, Saved_Data_Path + \"QICE_snowie_nov.nc\", \n",
    "                       mode = 'w', format = 'NETCDF4', group=None, engine=None, encoding=None)\n",
    "\n",
    "del QICE_snowie_nov\n",
    "\n",
    "QICE_snowie_dec = getvar(wrflist[1464:2208], \"QICE\", timeidx=ALL_TIMES, method=\"cat\")\n",
    "QICE_snowie_dec = QICE_snowie_dec.where(mask_lon & mask_lat, drop=True)\n",
    "\n",
    "write_xarray_to_netcdf(QICE_snowie_dec, Saved_Data_Path + \"QICE_snowie_dec.nc\", \n",
    "                       mode = 'w', format = 'NETCDF4', group=None, engine=None, encoding=None)\n",
    "\n",
    "del QICE_snowie_dec\n",
    "\n",
    "QICE_snowie_jan = getvar(wrflist[2208:2952], \"QICE\", timeidx=ALL_TIMES, method=\"cat\")\n",
    "QICE_snowie_jan = QICE_snowie_jan.where(mask_lon & mask_lat, drop=True)\n",
    "\n",
    "write_xarray_to_netcdf(QICE_snowie_jan, Saved_Data_Path + \"QICE_snowie_jan.nc\", \n",
    "                       mode = 'w', format = 'NETCDF4', group=None, engine=None, encoding=None)\n",
    "\n",
    "del QICE_snowie_jan\n",
    "\n",
    "QICE_snowie_feb = getvar(wrflist[2952:3624], \"QICE\", timeidx=ALL_TIMES, method=\"cat\")\n",
    "QICE_snowie_feb = QICE_snowie_feb.where(mask_lon & mask_lat, drop=True)\n",
    "\n",
    "write_xarray_to_netcdf(QICE_snowie_feb, Saved_Data_Path + \"QICE_snowie_feb.nc\", \n",
    "                       mode = 'w', format = 'NETCDF4', group=None, engine=None, encoding=None)\n",
    "\n",
    "del QICE_snowie_feb\n",
    "\n",
    "QICE_snowie_mar = getvar(wrflist[3624:4368], \"QICE\", timeidx=ALL_TIMES, method=\"cat\")\n",
    "QICE_snowie_mar = QICE_snowie_mar.where(mask_lon & mask_lat, drop=True)\n",
    "\n",
    "write_xarray_to_netcdf(QICE_snowie_mar, Saved_Data_Path + \"QICE_snowie_mar.nc\", \n",
    "                       mode = 'w', format = 'NETCDF4', group=None, engine=None, encoding=None)\n",
    "\n",
    "del QICE_snowie_mar\n",
    "\n",
    "QICE_snowie_apr = getvar(wrflist[4368:5088], \"QICE\", timeidx=ALL_TIMES, method=\"cat\")\n",
    "QICE_snowie_apr = QICE_snowie_apr.where(mask_lon & mask_lat, drop=True)\n",
    "\n",
    "write_xarray_to_netcdf(QICE_snowie_apr, Saved_Data_Path + \"QICE_snowie_apr.nc\", \n",
    "                       mode = 'w', format = 'NETCDF4', group=None, engine=None, encoding=None)\n",
    "\n",
    "del QICE_snowie_apr"
   ]
  },
  {
   "cell_type": "markdown",
   "id": "cbf0dd50-31ed-4d54-89f4-c84ddf5d95cd",
   "metadata": {
    "jp-MarkdownHeadingCollapsed": true,
    "tags": []
   },
   "source": [
    "## **Grab Theta_E Data Month by Month -- Store to Scratch**"
   ]
  },
  {
   "cell_type": "code",
   "execution_count": 5,
   "id": "1c188430-ce7f-404d-a1c9-de5c67cc5323",
   "metadata": {},
   "outputs": [],
   "source": [
    "dummy_file = Dataset(SNOWIE_Data_Path + '/wrfout_d02_2016-10-01_00:00:00')\n",
    "cartopy_dom = getvar(dummy_file, \"ter\")\n",
    "\n",
    "lat_min = 43\n",
    "lat_max = 46\n",
    "lon_min = -117\n",
    "lon_max = -111\n",
    "\n",
    "mask_lon = (cartopy_dom.XLONG >= lon_min) & (cartopy_dom.XLONG <= lon_max)\n",
    "mask_lat = (cartopy_dom.XLAT >= lat_min) & (cartopy_dom.XLAT <= lat_max)\n",
    "\n",
    "del dummy_file, cartopy_dom"
   ]
  },
  {
   "cell_type": "code",
   "execution_count": null,
   "id": "88fd2147-7932-46c9-9085-abf5d64275c3",
   "metadata": {},
   "outputs": [
    {
     "name": "stdout",
     "output_type": "stream",
     "text": [
      "1 done\n",
      "2 done\n"
     ]
    }
   ],
   "source": [
    "ThetaE_snowie_oct = getvar(wrflist[0:744], \"theta_e\", timeidx=ALL_TIMES, method=\"cat\")\n",
    "ThetaE_snowie_oct = ThetaE_snowie_oct.where(mask_lon & mask_lat, drop=True)\n",
    "\n",
    "write_xarray_to_netcdf(ThetaE_snowie_oct, Saved_Data_Path + \"ThetaE_snowie_oct.nc\", \n",
    "                       mode = 'w', format = 'NETCDF4', group=None, engine=None, encoding=None)\n",
    "\n",
    "del ThetaE_snowie_oct\n",
    "print(\"1 done\")\n",
    "\n",
    "ThetaE_snowie_nov = getvar(wrflist[744:1464], \"theta_e\", timeidx=ALL_TIMES, method=\"cat\")\n",
    "ThetaE_snowie_nov = ThetaE_snowie_nov.where(mask_lon & mask_lat, drop=True)\n",
    "\n",
    "write_xarray_to_netcdf(ThetaE_snowie_nov, Saved_Data_Path + \"ThetaE_snowie_nov.nc\", \n",
    "                       mode = 'w', format = 'NETCDF4', group=None, engine=None, encoding=None)\n",
    "\n",
    "del ThetaE_snowie_nov\n",
    "print(\"2 done\")\n",
    "\n",
    "ThetaE_snowie_dec = getvar(wrflist[1464:2208], \"theta_e\", timeidx=ALL_TIMES, method=\"cat\")\n",
    "ThetaE_snowie_dec = ThetaE_snowie_dec.where(mask_lon & mask_lat, drop=True)\n",
    "\n",
    "write_xarray_to_netcdf(ThetaE_snowie_dec, Saved_Data_Path + \"ThetaE_snowie_dec.nc\", \n",
    "                       mode = 'w', format = 'NETCDF4', group=None, engine=None, encoding=None)\n",
    "\n",
    "del ThetaE_snowie_dec\n",
    "print(\"3 done\")\n",
    "\n",
    "ThetaE_snowie_jan = getvar(wrflist[2208:2952], \"theta_e\", timeidx=ALL_TIMES, method=\"cat\")\n",
    "ThetaE_snowie_jan = ThetaE_snowie_jan.where(mask_lon & mask_lat, drop=True)\n",
    "\n",
    "write_xarray_to_netcdf(ThetaE_snowie_jan, Saved_Data_Path + \"ThetaE_snowie_jan.nc\", \n",
    "                       mode = 'w', format = 'NETCDF4', group=None, engine=None, encoding=None)\n",
    "\n",
    "del ThetaE_snowie_jan\n",
    "print(\"4 done\")\n",
    "\n",
    "ThetaE_snowie_feb = getvar(wrflist[2952:3624], \"theta_e\", timeidx=ALL_TIMES, method=\"cat\")\n",
    "ThetaE_snowie_feb = ThetaE_snowie_feb.where(mask_lon & mask_lat, drop=True)\n",
    "\n",
    "write_xarray_to_netcdf(ThetaE_snowie_feb, Saved_Data_Path + \"ThetaE_snowie_feb.nc\", \n",
    "                       mode = 'w', format = 'NETCDF4', group=None, engine=None, encoding=None)\n",
    "\n",
    "del ThetaE_snowie_feb\n",
    "print(\"5 done\")\n",
    "\n",
    "ThetaE_snowie_mar = getvar(wrflist[3624:4368], \"theta_e\", timeidx=ALL_TIMES, method=\"cat\")\n",
    "ThetaE_snowie_mar = ThetaE_snowie_mar.where(mask_lon & mask_lat, drop=True)\n",
    "\n",
    "write_xarray_to_netcdf(ThetaE_snowie_mar, Saved_Data_Path + \"ThetaE_snowie_mar.nc\", \n",
    "                       mode = 'w', format = 'NETCDF4', group=None, engine=None, encoding=None)\n",
    "\n",
    "del ThetaE_snowie_mar\n",
    "print(\"6 done\")\n",
    "\n",
    "ThetaE_snowie_apr = getvar(wrflist[4368:5088], \"theta_e\", timeidx=ALL_TIMES, method=\"cat\")\n",
    "ThetaE_snowie_apr = ThetaE_snowie_apr.where(mask_lon & mask_lat, drop=True)\n",
    "\n",
    "write_xarray_to_netcdf(ThetaE_snowie_apr, Saved_Data_Path + \"ThetaE_snowie_apr.nc\", \n",
    "                       mode = 'w', format = 'NETCDF4', group=None, engine=None, encoding=None)\n",
    "\n",
    "del ThetaE_snowie_apr\n",
    "print(\"7 done\")"
   ]
  },
  {
   "cell_type": "markdown",
   "id": "5b644b00-207f-4006-b4bf-e2d34fe5a83b",
   "metadata": {
    "jp-MarkdownHeadingCollapsed": true,
    "tags": []
   },
   "source": [
    "## **Grab QVAPOR Data Month by Month -- Store to Scratch**"
   ]
  },
  {
   "cell_type": "code",
   "execution_count": 5,
   "id": "500dbbf1-66bf-40c3-8bdc-c71845834345",
   "metadata": {},
   "outputs": [],
   "source": [
    "dummy_file = Dataset(SNOWIE_Data_Path + '/wrfout_d02_2016-10-01_00:00:00')\n",
    "cartopy_dom = getvar(dummy_file, \"ter\")\n",
    "\n",
    "lat_min = 43\n",
    "lat_max = 46\n",
    "lon_min = -117\n",
    "lon_max = -111\n",
    "\n",
    "mask_lon = (cartopy_dom.XLONG >= lon_min) & (cartopy_dom.XLONG <= lon_max)\n",
    "mask_lat = (cartopy_dom.XLAT >= lat_min) & (cartopy_dom.XLAT <= lat_max)\n",
    "\n",
    "del dummy_file, cartopy_dom"
   ]
  },
  {
   "cell_type": "code",
   "execution_count": 6,
   "id": "aaf64432-2db1-48ac-9447-1dc39d01637e",
   "metadata": {},
   "outputs": [
    {
     "name": "stdout",
     "output_type": "stream",
     "text": [
      "1 done\n",
      "2 done\n",
      "3 done\n",
      "4 done\n",
      "5 done\n",
      "6 done\n",
      "7 done\n"
     ]
    }
   ],
   "source": [
    "QVAPOR_snowie_oct = getvar(wrflist[0:744], \"QVAPOR\", timeidx=ALL_TIMES, method=\"cat\")\n",
    "QVAPOR_snowie_oct = QVAPOR_snowie_oct.where(mask_lon & mask_lat, drop=True)\n",
    "\n",
    "write_xarray_to_netcdf(QVAPOR_snowie_oct, Saved_Data_Path + \"QVAPOR_snowie_oct.nc\", \n",
    "                       mode = 'w', format = 'NETCDF4', group=None, engine=None, encoding=None)\n",
    "\n",
    "del QVAPOR_snowie_oct\n",
    "print(\"1 done\")\n",
    "\n",
    "QVAPOR_snowie_nov = getvar(wrflist[744:1464], \"QVAPOR\", timeidx=ALL_TIMES, method=\"cat\")\n",
    "QVAPOR_snowie_nov = QVAPOR_snowie_nov.where(mask_lon & mask_lat, drop=True)\n",
    "\n",
    "write_xarray_to_netcdf(QVAPOR_snowie_nov, Saved_Data_Path + \"QVAPOR_snowie_nov.nc\", \n",
    "                       mode = 'w', format = 'NETCDF4', group=None, engine=None, encoding=None)\n",
    "\n",
    "del QVAPOR_snowie_nov\n",
    "print(\"2 done\")\n",
    "\n",
    "QVAPOR_snowie_dec = getvar(wrflist[1464:2208], \"QVAPOR\", timeidx=ALL_TIMES, method=\"cat\")\n",
    "QVAPOR_snowie_dec = QVAPOR_snowie_dec.where(mask_lon & mask_lat, drop=True)\n",
    "\n",
    "write_xarray_to_netcdf(QVAPOR_snowie_dec, Saved_Data_Path + \"QVAPOR_snowie_dec.nc\", \n",
    "                       mode = 'w', format = 'NETCDF4', group=None, engine=None, encoding=None)\n",
    "\n",
    "del QVAPOR_snowie_dec\n",
    "print(\"3 done\")\n",
    "\n",
    "QVAPOR_snowie_jan = getvar(wrflist[2208:2952], \"QVAPOR\", timeidx=ALL_TIMES, method=\"cat\")\n",
    "QVAPOR_snowie_jan = QVAPOR_snowie_jan.where(mask_lon & mask_lat, drop=True)\n",
    "\n",
    "write_xarray_to_netcdf(QVAPOR_snowie_jan, Saved_Data_Path + \"QVAPOR_snowie_jan.nc\", \n",
    "                       mode = 'w', format = 'NETCDF4', group=None, engine=None, encoding=None)\n",
    "\n",
    "del QVAPOR_snowie_jan\n",
    "print(\"4 done\")\n",
    "\n",
    "QVAPOR_snowie_feb = getvar(wrflist[2952:3624], \"QVAPOR\", timeidx=ALL_TIMES, method=\"cat\")\n",
    "QVAPOR_snowie_feb = QVAPOR_snowie_feb.where(mask_lon & mask_lat, drop=True)\n",
    "\n",
    "write_xarray_to_netcdf(QVAPOR_snowie_feb, Saved_Data_Path + \"QVAPOR_snowie_feb.nc\", \n",
    "                       mode = 'w', format = 'NETCDF4', group=None, engine=None, encoding=None)\n",
    "\n",
    "del QVAPOR_snowie_feb\n",
    "print(\"5 done\")\n",
    "\n",
    "QVAPOR_snowie_mar = getvar(wrflist[3624:4368], \"QVAPOR\", timeidx=ALL_TIMES, method=\"cat\")\n",
    "QVAPOR_snowie_mar = QVAPOR_snowie_mar.where(mask_lon & mask_lat, drop=True)\n",
    "\n",
    "write_xarray_to_netcdf(QVAPOR_snowie_mar, Saved_Data_Path + \"QVAPOR_snowie_mar.nc\", \n",
    "                       mode = 'w', format = 'NETCDF4', group=None, engine=None, encoding=None)\n",
    "\n",
    "del QVAPOR_snowie_mar\n",
    "print(\"6 done\")\n",
    "\n",
    "QVAPOR_snowie_apr = getvar(wrflist[4368:5088], \"QVAPOR\", timeidx=ALL_TIMES, method=\"cat\")\n",
    "QVAPOR_snowie_apr = QVAPOR_snowie_apr.where(mask_lon & mask_lat, drop=True)\n",
    "\n",
    "write_xarray_to_netcdf(QVAPOR_snowie_apr, Saved_Data_Path + \"QVAPOR_snowie_apr.nc\", \n",
    "                       mode = 'w', format = 'NETCDF4', group=None, engine=None, encoding=None)\n",
    "\n",
    "del QVAPOR_snowie_apr\n",
    "print(\"7 done\")"
   ]
  },
  {
   "cell_type": "markdown",
   "id": "d125bc38-89db-4d58-bc8e-bd96150f3ec2",
   "metadata": {
    "jp-MarkdownHeadingCollapsed": true,
    "tags": []
   },
   "source": [
    "## **Grab u Data Month by Month -- Store to Scratch**"
   ]
  },
  {
   "cell_type": "code",
   "execution_count": 5,
   "id": "e12e5d17-930a-4416-bab9-5d1a4fe5ce46",
   "metadata": {},
   "outputs": [],
   "source": [
    "dummy_file = Dataset(SNOWIE_Data_Path + '/wrfout_d02_2016-10-01_00:00:00')\n",
    "cartopy_dom = getvar(dummy_file, \"ter\")\n",
    "\n",
    "lat_min = 43\n",
    "lat_max = 46\n",
    "lon_min = -117\n",
    "lon_max = -111\n",
    "\n",
    "mask_lon = (cartopy_dom.XLONG >= lon_min) & (cartopy_dom.XLONG <= lon_max)\n",
    "mask_lat = (cartopy_dom.XLAT >= lat_min) & (cartopy_dom.XLAT <= lat_max)\n",
    "\n",
    "del dummy_file, cartopy_dom"
   ]
  },
  {
   "cell_type": "code",
   "execution_count": 7,
   "id": "d11ab69a-fc5c-463d-b3d8-e5d6d593ff8e",
   "metadata": {},
   "outputs": [
    {
     "name": "stdout",
     "output_type": "stream",
     "text": [
      "1 done\n",
      "2 done\n",
      "3 done\n",
      "4 done\n",
      "5 done\n",
      "6 done\n",
      "7 done\n"
     ]
    }
   ],
   "source": [
    "u_snowie_oct = getvar(wrflist[0:744], \"ua\", units=\"m s-1\", timeidx=ALL_TIMES, method=\"cat\")\n",
    "u_snowie_oct = u_snowie_oct.where(mask_lon & mask_lat, drop=True)\n",
    "\n",
    "write_xarray_to_netcdf(u_snowie_oct, Saved_Data_Path + \"u_snowie_oct.nc\", \n",
    "                       mode = 'w', format = 'NETCDF4', group=None, engine=None, encoding=None)\n",
    "\n",
    "del u_snowie_oct\n",
    "print(\"1 done\")\n",
    "\n",
    "u_snowie_nov = getvar(wrflist[744:1464], \"ua\", units=\"m s-1\", timeidx=ALL_TIMES, method=\"cat\")\n",
    "u_snowie_nov = u_snowie_nov.where(mask_lon & mask_lat, drop=True)\n",
    "\n",
    "write_xarray_to_netcdf(u_snowie_nov, Saved_Data_Path + \"u_snowie_nov.nc\", \n",
    "                       mode = 'w', format = 'NETCDF4', group=None, engine=None, encoding=None)\n",
    "\n",
    "del u_snowie_nov\n",
    "print(\"2 done\")\n",
    "\n",
    "u_snowie_dec = getvar(wrflist[1464:2208], \"ua\", units=\"m s-1\", timeidx=ALL_TIMES, method=\"cat\")\n",
    "u_snowie_dec = u_snowie_dec.where(mask_lon & mask_lat, drop=True)\n",
    "\n",
    "write_xarray_to_netcdf(u_snowie_dec, Saved_Data_Path + \"u_snowie_dec.nc\", \n",
    "                       mode = 'w', format = 'NETCDF4', group=None, engine=None, encoding=None)\n",
    "\n",
    "del u_snowie_dec\n",
    "print(\"3 done\")\n",
    "\n",
    "u_snowie_jan = getvar(wrflist[2208:2952], \"ua\", units=\"m s-1\", timeidx=ALL_TIMES, method=\"cat\")\n",
    "u_snowie_jan = u_snowie_jan.where(mask_lon & mask_lat, drop=True)\n",
    "\n",
    "write_xarray_to_netcdf(u_snowie_jan, Saved_Data_Path + \"u_snowie_jan.nc\", \n",
    "                       mode = 'w', format = 'NETCDF4', group=None, engine=None, encoding=None)\n",
    "\n",
    "del u_snowie_jan\n",
    "print(\"4 done\")\n",
    "\n",
    "u_snowie_feb = getvar(wrflist[2952:3624], \"ua\", units=\"m s-1\", timeidx=ALL_TIMES, method=\"cat\")\n",
    "u_snowie_feb = u_snowie_feb.where(mask_lon & mask_lat, drop=True)\n",
    "\n",
    "write_xarray_to_netcdf(u_snowie_feb, Saved_Data_Path + \"u_snowie_feb.nc\", \n",
    "                       mode = 'w', format = 'NETCDF4', group=None, engine=None, encoding=None)\n",
    "\n",
    "del u_snowie_feb\n",
    "print(\"5 done\")\n",
    "\n",
    "u_snowie_mar = getvar(wrflist[3624:4368], \"ua\", units=\"m s-1\", timeidx=ALL_TIMES, method=\"cat\")\n",
    "u_snowie_mar = u_snowie_mar.where(mask_lon & mask_lat, drop=True)\n",
    "\n",
    "write_xarray_to_netcdf(u_snowie_mar, Saved_Data_Path + \"u_snowie_mar.nc\", \n",
    "                       mode = 'w', format = 'NETCDF4', group=None, engine=None, encoding=None)\n",
    "\n",
    "del u_snowie_mar\n",
    "print(\"6 done\")\n",
    "\n",
    "u_snowie_apr = getvar(wrflist[4368:5088], \"ua\", units=\"m s-1\", timeidx=ALL_TIMES, method=\"cat\")\n",
    "u_snowie_apr = u_snowie_apr.where(mask_lon & mask_lat, drop=True)\n",
    "\n",
    "write_xarray_to_netcdf(u_snowie_apr, Saved_Data_Path + \"u_snowie_apr.nc\", \n",
    "                       mode = 'w', format = 'NETCDF4', group=None, engine=None, encoding=None)\n",
    "\n",
    "del u_snowie_apr\n",
    "print(\"7 done\")"
   ]
  },
  {
   "cell_type": "markdown",
   "id": "6396b780-3815-4b1b-8878-4d2a5fff7188",
   "metadata": {
    "jp-MarkdownHeadingCollapsed": true,
    "tags": []
   },
   "source": [
    "## **Grab v Data Month by Month -- Store to Scratch**"
   ]
  },
  {
   "cell_type": "code",
   "execution_count": 5,
   "id": "6bc4ca02-7795-4463-b8be-c78a109556f1",
   "metadata": {},
   "outputs": [],
   "source": [
    "dummy_file = Dataset(SNOWIE_Data_Path + '/wrfout_d02_2016-10-01_00:00:00')\n",
    "cartopy_dom = getvar(dummy_file, \"ter\")\n",
    "\n",
    "lat_min = 43\n",
    "lat_max = 46\n",
    "lon_min = -117\n",
    "lon_max = -111\n",
    "\n",
    "mask_lon = (cartopy_dom.XLONG >= lon_min) & (cartopy_dom.XLONG <= lon_max)\n",
    "mask_lat = (cartopy_dom.XLAT >= lat_min) & (cartopy_dom.XLAT <= lat_max)\n",
    "\n",
    "del dummy_file, cartopy_dom"
   ]
  },
  {
   "cell_type": "code",
   "execution_count": 8,
   "id": "f1959d87-bed1-49d2-af61-ca89e4604130",
   "metadata": {},
   "outputs": [
    {
     "name": "stdout",
     "output_type": "stream",
     "text": [
      "1 done\n",
      "2 done\n",
      "3 done\n",
      "4 done\n",
      "5 done\n",
      "6 done\n",
      "7 done\n"
     ]
    }
   ],
   "source": [
    "v_snowie_oct = getvar(wrflist[0:744], \"va\", units=\"m s-1\", timeidx=ALL_TIMES, method=\"cat\")\n",
    "v_snowie_oct = v_snowie_oct.where(mask_lon & mask_lat, drop=True)\n",
    "\n",
    "write_xarray_to_netcdf(v_snowie_oct, Saved_Data_Path + \"v_snowie_oct.nc\", \n",
    "                       mode = 'w', format = 'NETCDF4', group=None, engine=None, encoding=None)\n",
    "\n",
    "del v_snowie_oct\n",
    "print(\"1 done\")\n",
    "\n",
    "v_snowie_nov = getvar(wrflist[744:1464], \"va\", units=\"m s-1\", timeidx=ALL_TIMES, method=\"cat\")\n",
    "v_snowie_nov = v_snowie_nov.where(mask_lon & mask_lat, drop=True)\n",
    "\n",
    "write_xarray_to_netcdf(v_snowie_nov, Saved_Data_Path + \"v_snowie_nov.nc\", \n",
    "                       mode = 'w', format = 'NETCDF4', group=None, engine=None, encoding=None)\n",
    "\n",
    "del v_snowie_nov\n",
    "print(\"2 done\")\n",
    "\n",
    "v_snowie_dec = getvar(wrflist[1464:2208], \"va\", units=\"m s-1\", timeidx=ALL_TIMES, method=\"cat\")\n",
    "v_snowie_dec = v_snowie_dec.where(mask_lon & mask_lat, drop=True)\n",
    "\n",
    "write_xarray_to_netcdf(v_snowie_dec, Saved_Data_Path + \"v_snowie_dec.nc\", \n",
    "                       mode = 'w', format = 'NETCDF4', group=None, engine=None, encoding=None)\n",
    "\n",
    "del v_snowie_dec\n",
    "print(\"3 done\")\n",
    "\n",
    "v_snowie_jan = getvar(wrflist[2208:2952], \"va\", units=\"m s-1\", timeidx=ALL_TIMES, method=\"cat\")\n",
    "v_snowie_jan = v_snowie_jan.where(mask_lon & mask_lat, drop=True)\n",
    "\n",
    "write_xarray_to_netcdf(v_snowie_jan, Saved_Data_Path + \"v_snowie_jan.nc\", \n",
    "                       mode = 'w', format = 'NETCDF4', group=None, engine=None, encoding=None)\n",
    "\n",
    "del v_snowie_jan\n",
    "print(\"4 done\")\n",
    "\n",
    "v_snowie_feb = getvar(wrflist[2952:3624], \"va\", units=\"m s-1\", timeidx=ALL_TIMES, method=\"cat\")\n",
    "v_snowie_feb = v_snowie_feb.where(mask_lon & mask_lat, drop=True)\n",
    "\n",
    "write_xarray_to_netcdf(v_snowie_feb, Saved_Data_Path + \"v_snowie_feb.nc\", \n",
    "                       mode = 'w', format = 'NETCDF4', group=None, engine=None, encoding=None)\n",
    "\n",
    "del v_snowie_feb\n",
    "print(\"5 done\")\n",
    "\n",
    "v_snowie_mar = getvar(wrflist[3624:4368], \"va\", units=\"m s-1\", timeidx=ALL_TIMES, method=\"cat\")\n",
    "v_snowie_mar = v_snowie_mar.where(mask_lon & mask_lat, drop=True)\n",
    "\n",
    "write_xarray_to_netcdf(v_snowie_mar, Saved_Data_Path + \"v_snowie_mar.nc\", \n",
    "                       mode = 'w', format = 'NETCDF4', group=None, engine=None, encoding=None)\n",
    "\n",
    "del v_snowie_mar\n",
    "print(\"6 done\")\n",
    "\n",
    "v_snowie_apr = getvar(wrflist[4368:5088], \"va\", units=\"m s-1\", timeidx=ALL_TIMES, method=\"cat\")\n",
    "v_snowie_apr = v_snowie_apr.where(mask_lon & mask_lat, drop=True)\n",
    "\n",
    "write_xarray_to_netcdf(v_snowie_apr, Saved_Data_Path + \"v_snowie_apr.nc\", \n",
    "                       mode = 'w', format = 'NETCDF4', group=None, engine=None, encoding=None)\n",
    "\n",
    "del v_snowie_apr\n",
    "print(\"7 done\")"
   ]
  },
  {
   "cell_type": "markdown",
   "id": "7ba01fa4-6333-4955-be80-9408ef134e60",
   "metadata": {
    "jp-MarkdownHeadingCollapsed": true,
    "tags": []
   },
   "source": [
    "## **Grab P Data Month by Month -- Store to Scratch**"
   ]
  },
  {
   "cell_type": "code",
   "execution_count": 5,
   "id": "38b8ad47-dc65-429c-b8d3-46bff0a16ad2",
   "metadata": {},
   "outputs": [],
   "source": [
    "dummy_file = Dataset(SNOWIE_Data_Path + '/wrfout_d02_2016-10-01_00:00:00')\n",
    "cartopy_dom = getvar(dummy_file, \"ter\")\n",
    "\n",
    "lat_min = 43\n",
    "lat_max = 46\n",
    "lon_min = -117\n",
    "lon_max = -111\n",
    "\n",
    "mask_lon = (cartopy_dom.XLONG >= lon_min) & (cartopy_dom.XLONG <= lon_max)\n",
    "mask_lat = (cartopy_dom.XLAT >= lat_min) & (cartopy_dom.XLAT <= lat_max)\n",
    "\n",
    "del dummy_file, cartopy_dom"
   ]
  },
  {
   "cell_type": "code",
   "execution_count": 10,
   "id": "6a82516d-63d1-4047-aeee-ad2a401caafe",
   "metadata": {},
   "outputs": [
    {
     "name": "stdout",
     "output_type": "stream",
     "text": [
      "1 done\n",
      "2 done\n",
      "3 done\n",
      "4 done\n",
      "5 done\n",
      "6 done\n",
      "7 done\n"
     ]
    }
   ],
   "source": [
    "p_snowie_oct = getvar(wrflist[0:744], \"pressure\", timeidx=ALL_TIMES, method=\"cat\")\n",
    "p_snowie_oct = p_snowie_oct.where(mask_lon & mask_lat, drop=True)\n",
    "\n",
    "write_xarray_to_netcdf(p_snowie_oct, Saved_Data_Path + \"p_snowie_oct.nc\", \n",
    "                       mode = 'w', format = 'NETCDF4', group=None, engine=None, encoding=None)\n",
    "\n",
    "del p_snowie_oct\n",
    "print(\"1 done\")\n",
    "\n",
    "p_snowie_nov = getvar(wrflist[744:1464], \"pressure\", timeidx=ALL_TIMES, method=\"cat\")\n",
    "p_snowie_nov = p_snowie_nov.where(mask_lon & mask_lat, drop=True)\n",
    "\n",
    "write_xarray_to_netcdf(p_snowie_nov, Saved_Data_Path + \"p_snowie_nov.nc\", \n",
    "                       mode = 'w', format = 'NETCDF4', group=None, engine=None, encoding=None)\n",
    "\n",
    "del p_snowie_nov\n",
    "print(\"2 done\")\n",
    "\n",
    "p_snowie_dec = getvar(wrflist[1464:2208], \"pressure\", timeidx=ALL_TIMES, method=\"cat\")\n",
    "p_snowie_dec = p_snowie_dec.where(mask_lon & mask_lat, drop=True)\n",
    "\n",
    "write_xarray_to_netcdf(p_snowie_dec, Saved_Data_Path + \"p_snowie_dec.nc\", \n",
    "                       mode = 'w', format = 'NETCDF4', group=None, engine=None, encoding=None)\n",
    "\n",
    "del p_snowie_dec\n",
    "print(\"3 done\")\n",
    "\n",
    "p_snowie_jan = getvar(wrflist[2208:2952], \"pressure\", timeidx=ALL_TIMES, method=\"cat\")\n",
    "p_snowie_jan = p_snowie_jan.where(mask_lon & mask_lat, drop=True)\n",
    "\n",
    "write_xarray_to_netcdf(p_snowie_jan, Saved_Data_Path + \"p_snowie_jan.nc\", \n",
    "                       mode = 'w', format = 'NETCDF4', group=None, engine=None, encoding=None)\n",
    "\n",
    "del p_snowie_jan\n",
    "print(\"4 done\")\n",
    "\n",
    "p_snowie_feb = getvar(wrflist[2952:3624], \"pressure\", timeidx=ALL_TIMES, method=\"cat\")\n",
    "p_snowie_feb = p_snowie_feb.where(mask_lon & mask_lat, drop=True)\n",
    "\n",
    "write_xarray_to_netcdf(p_snowie_feb, Saved_Data_Path + \"p_snowie_feb.nc\", \n",
    "                       mode = 'w', format = 'NETCDF4', group=None, engine=None, encoding=None)\n",
    "\n",
    "del p_snowie_feb\n",
    "print(\"5 done\")\n",
    "\n",
    "p_snowie_mar = getvar(wrflist[3624:4368], \"pressure\", timeidx=ALL_TIMES, method=\"cat\")\n",
    "p_snowie_mar = p_snowie_mar.where(mask_lon & mask_lat, drop=True)\n",
    "\n",
    "write_xarray_to_netcdf(p_snowie_mar, Saved_Data_Path + \"p_snowie_mar.nc\", \n",
    "                       mode = 'w', format = 'NETCDF4', group=None, engine=None, encoding=None)\n",
    "\n",
    "del p_snowie_mar\n",
    "print(\"6 done\")\n",
    "\n",
    "p_snowie_apr = getvar(wrflist[4368:5088], \"pressure\", timeidx=ALL_TIMES, method=\"cat\")\n",
    "p_snowie_apr = p_snowie_apr.where(mask_lon & mask_lat, drop=True)\n",
    "\n",
    "write_xarray_to_netcdf(p_snowie_apr, Saved_Data_Path + \"p_snowie_apr.nc\", \n",
    "                       mode = 'w', format = 'NETCDF4', group=None, engine=None, encoding=None)\n",
    "\n",
    "del p_snowie_apr\n",
    "print(\"7 done\")"
   ]
  },
  {
   "cell_type": "markdown",
   "id": "15caee9e-8740-43d2-a340-da7a52f7725a",
   "metadata": {
    "tags": []
   },
   "source": [
    "## **Grab T_v Data Month by Month -- Store to Scratch**"
   ]
  },
  {
   "cell_type": "code",
   "execution_count": 5,
   "id": "9f998b77-bca6-4d7a-8ee7-0d79917435a3",
   "metadata": {},
   "outputs": [],
   "source": [
    "dummy_file = Dataset(SNOWIE_Data_Path + '/wrfout_d02_2016-10-01_00:00:00')\n",
    "cartopy_dom = getvar(dummy_file, \"ter\")\n",
    "\n",
    "lat_min = 43\n",
    "lat_max = 46\n",
    "lon_min = -117\n",
    "lon_max = -111\n",
    "\n",
    "mask_lon = (cartopy_dom.XLONG >= lon_min) & (cartopy_dom.XLONG <= lon_max)\n",
    "mask_lat = (cartopy_dom.XLAT >= lat_min) & (cartopy_dom.XLAT <= lat_max)\n",
    "\n",
    "del dummy_file, cartopy_dom"
   ]
  },
  {
   "cell_type": "code",
   "execution_count": 6,
   "id": "bf52f671-8372-4644-8159-99d98ace6cf5",
   "metadata": {},
   "outputs": [
    {
     "name": "stdout",
     "output_type": "stream",
     "text": [
      "6 done\n",
      "7 done\n"
     ]
    }
   ],
   "source": [
    "# tv_snowie_oct = getvar(wrflist[0:744], \"tv\", timeidx=ALL_TIMES, method=\"cat\")\n",
    "# tv_snowie_oct = tv_snowie_oct.where(mask_lon & mask_lat, drop=True)\n",
    "\n",
    "# write_xarray_to_netcdf(tv_snowie_oct, Saved_Data_Path + \"tv_snowie_oct.nc\", \n",
    "#                        mode = 'w', format = 'NETCDF4', group=None, engine=None, encoding=None)\n",
    "\n",
    "# del tv_snowie_oct\n",
    "# print(\"1 done\")\n",
    "\n",
    "# tv_snowie_nov = getvar(wrflist[744:1464], \"tv\", timeidx=ALL_TIMES, method=\"cat\")\n",
    "# tv_snowie_nov = tv_snowie_nov.where(mask_lon & mask_lat, drop=True)\n",
    "\n",
    "# write_xarray_to_netcdf(tv_snowie_nov, Saved_Data_Path + \"tv_snowie_nov.nc\", \n",
    "#                        mode = 'w', format = 'NETCDF4', group=None, engine=None, encoding=None)\n",
    "\n",
    "# del tv_snowie_nov\n",
    "# print(\"2 done\")\n",
    "\n",
    "# tv_snowie_dec = getvar(wrflist[1464:2208], \"tv\", timeidx=ALL_TIMES, method=\"cat\")\n",
    "# tv_snowie_dec = tv_snowie_dec.where(mask_lon & mask_lat, drop=True)\n",
    "\n",
    "# write_xarray_to_netcdf(tv_snowie_dec, Saved_Data_Path + \"tv_snowie_dec.nc\", \n",
    "#                        mode = 'w', format = 'NETCDF4', group=None, engine=None, encoding=None)\n",
    "\n",
    "# del tv_snowie_dec\n",
    "# print(\"3 done\")\n",
    "\n",
    "# tv_snowie_jan = getvar(wrflist[2208:2952], \"tv\", timeidx=ALL_TIMES, method=\"cat\")\n",
    "# tv_snowie_jan = tv_snowie_jan.where(mask_lon & mask_lat, drop=True)\n",
    "\n",
    "# write_xarray_to_netcdf(tv_snowie_jan, Saved_Data_Path + \"tv_snowie_jan.nc\", \n",
    "#                        mode = 'w', format = 'NETCDF4', group=None, engine=None, encoding=None)\n",
    "\n",
    "# del tv_snowie_jan\n",
    "# print(\"4 done\")\n",
    "\n",
    "# tv_snowie_feb = getvar(wrflist[2952:3624], \"tv\", timeidx=ALL_TIMES, method=\"cat\")\n",
    "# tv_snowie_feb = tv_snowie_feb.where(mask_lon & mask_lat, drop=True)\n",
    "\n",
    "# write_xarray_to_netcdf(tv_snowie_feb, Saved_Data_Path + \"tv_snowie_feb.nc\", \n",
    "#                        mode = 'w', format = 'NETCDF4', group=None, engine=None, encoding=None)\n",
    "\n",
    "# del tv_snowie_feb\n",
    "# print(\"5 done\")\n",
    "\n",
    "tv_snowie_mar = getvar(wrflist[3624:4368], \"tv\", timeidx=ALL_TIMES, method=\"cat\")\n",
    "tv_snowie_mar = tv_snowie_mar.where(mask_lon & mask_lat, drop=True)\n",
    "\n",
    "write_xarray_to_netcdf(tv_snowie_mar, Saved_Data_Path + \"tv_snowie_mar.nc\", \n",
    "                       mode = 'w', format = 'NETCDF4', group=None, engine=None, encoding=None)\n",
    "\n",
    "del tv_snowie_mar\n",
    "print(\"6 done\")\n",
    "\n",
    "tv_snowie_apr = getvar(wrflist[4368:5088], \"tv\", timeidx=ALL_TIMES, method=\"cat\")\n",
    "tv_snowie_apr = tv_snowie_apr.where(mask_lon & mask_lat, drop=True)\n",
    "\n",
    "write_xarray_to_netcdf(tv_snowie_apr, Saved_Data_Path + \"tv_snowie_apr.nc\", \n",
    "                       mode = 'w', format = 'NETCDF4', group=None, engine=None, encoding=None)\n",
    "\n",
    "del tv_snowie_apr\n",
    "print(\"7 done\")"
   ]
  }
 ],
 "metadata": {
  "kernelspec": {
   "display_name": "Python [conda env:miniconda3-snowie_env]",
   "language": "python",
   "name": "conda-env-miniconda3-snowie_env-py"
  },
  "language_info": {
   "codemirror_mode": {
    "name": "ipython",
    "version": 3
   },
   "file_extension": ".py",
   "mimetype": "text/x-python",
   "name": "python",
   "nbconvert_exporter": "python",
   "pygments_lexer": "ipython3",
   "version": "3.7.11"
  }
 },
 "nbformat": 4,
 "nbformat_minor": 5
}
