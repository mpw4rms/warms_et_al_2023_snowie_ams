{
 "cells": [
  {
   "cell_type": "code",
   "execution_count": 12,
   "id": "bcb98d21-9a59-4cd8-85b2-79855d42b75b",
   "metadata": {},
   "outputs": [],
   "source": [
    "from netCDF4 import Dataset, num2date, date2num\n",
    "import csv\n",
    "import glob\n",
    "import xarray as xr \n",
    "import seaborn as sns\n",
    "from wrf import (to_np, getvar, smooth2d, get_cartopy, cartopy_xlim, vertcross,\n",
    "                 cartopy_ylim, interplevel, latlon_coords, uvmet, CoordPair,\n",
    "                ALL_TIMES)\n",
    "from matplotlib.dates import MonthLocator\n",
    "import datetime\n",
    "from mpl_toolkits.axes_grid1.inset_locator import inset_axes\n",
    "import cartopy.feature as cfeature\n",
    "import cartopy.crs as ccrs\n",
    "import numpy as np\n",
    "import pandas as pd\n",
    "import matplotlib.pyplot as plt\n",
    "import matplotlib.patheffects as PathEffects\n",
    "import matplotlib.ticker as mticker\n",
    "from matplotlib.cm import get_cmap\n",
    "from cartopy.mpl.gridliner import LONGITUDE_FORMATTER, LATITUDE_FORMATTER\n"
   ]
  },
  {
   "cell_type": "code",
   "execution_count": 13,
   "id": "97359f0a-d4bb-4ecc-9a8e-5cb90d19004a",
   "metadata": {},
   "outputs": [],
   "source": [
    "def write_xarray_to_netcdf(xarray_array, output_path,mode='w', format='NETCDF4', group=None, engine=None,\n",
    "                           encoding=None):\n",
    "    \"\"\"writes and xarray in a netcdf format outputfile\n",
    "    Uses the xarray typical for wrf-python. The projection objects are transformed into strings\n",
    "    to be able to use them as netcdf attributes\n",
    "    :param xarray_array: xarray.DataArray\n",
    "    :param output_path: str\n",
    "    :param format: 'NETCDF4', 'NETCDF4_CLASSIC', 'NETCDF3_64BIT' or 'NETCDF3_CLASSIC'\n",
    "                    default: 'NETCDF4'\n",
    "    :param group: str, default None\n",
    "    :param engine: 'netcdf4', 'scipy' or 'h5netcdf'\n",
    "    :param encoding: dict, default: None\n",
    "    \"\"\"\n",
    "    xarray_array_out = xarray_array.copy(deep=True)\n",
    "    # coordinates are extracted from variable\n",
    "    del xarray_array_out.attrs['coordinates']\n",
    "    # wrf-python projection object cannot be processed\n",
    "    xarray_array_out.attrs['projection'] = str(xarray_array_out.attrs['projection'])\n",
    "\n",
    "    xarray_array_out.to_netcdf(path=output_path, mode=mode, format=format, group=group,\n",
    "                               engine=engine,\n",
    "                               encoding=encoding)"
   ]
  },
  {
   "cell_type": "markdown",
   "id": "cbbedffb-aa66-43ef-8460-2306a13b4b45",
   "metadata": {},
   "source": [
    "**Load stuff As needed from scratch or saved data**"
   ]
  },
  {
   "cell_type": "code",
   "execution_count": 14,
   "id": "af8cb29b-5119-410a-8847-8a0b6766b331",
   "metadata": {},
   "outputs": [],
   "source": [
    "Saved_Data_Path =  r'/glade/u/home/mwarms/SavedData/'\n",
    "SNOWIE_Data_Path = r'/glade/u/home/mwarms/SNOWIE_Seasonal_Data/wrfout_d02'\n",
    "\n",
    "# Load terrain & projection info\n",
    "dummy_file = Dataset(SNOWIE_Data_Path + '/wrfout_d02_2016-10-01_00:00:00')\n",
    "Ter_dom = getvar(dummy_file, \"ter\")\n",
    "cartopy_dom = getvar(dummy_file, \"ter\")\n",
    "cart_proj_dom = get_cartopy(cartopy_dom)\n",
    "\n",
    "lat_min = 43\n",
    "lat_max = 46\n",
    "lon_min = -117\n",
    "lon_max = -111\n",
    "\n",
    "mask_lon = (cartopy_dom.XLONG >= lon_min) & (cartopy_dom.XLONG <= lon_max)\n",
    "mask_lat = (cartopy_dom.XLAT >= lat_min) & (cartopy_dom.XLAT <= lat_max)\n",
    "\n",
    "cartopy_aoi = cartopy_dom.where(mask_lon & mask_lat, drop=True)\n",
    "cart_proj_aoi = get_cartopy(cartopy_aoi)\n",
    "\n",
    "Ter_aoi = Ter_dom.where(mask_lon & mask_lat, drop=True)\n",
    "\n",
    "# Load SNOWNC\n",
    "SNOWNC_snowie = xr.open_dataarray(Saved_Data_Path + '/SNOWNC_snowie.nc')\n",
    "SNOWNC_snowie = SNOWNC_snowie.where(mask_lon & mask_lat, drop=True)\n",
    "\n",
    "# # Scratch Paths for QCLOUD by month\n",
    "# Oct_Path =  r'/glade/scratch/mwarms/temp/\\QCLOUD_snowie_oct.nc'\n",
    "# Nov_Path =  r'/glade/scratch/mwarms/temp/\\QCLOUD_snowie_nov.nc'\n",
    "# Dec_Path =  r'/glade/scratch/mwarms/temp/\\QCLOUD_snowie_dec.nc'\n",
    "# Jan_Path =  r'/glade/scratch/mwarms/temp/\\QCLOUD_snowie_jan.nc'\n",
    "# Feb_Path =  r'/glade/scratch/mwarms/temp/\\QCLOUD_snowie_feb.nc'\n",
    "# Mar_Path =  r'/glade/scratch/mwarms/temp/\\QCLOUD_snowie_mar.nc'\n",
    "# Apr_Path =  r'/glade/scratch/mwarms/temp/\\QCLOUD_snowie_apr.nc'\n",
    "\n",
    "# # Load QCLOUDs\n",
    "# QCLOUD_snowie_oct = xr.open_dataarray(Oct_Path)\n",
    "# QCLOUD_snowie_nov = xr.open_dataarray(Nov_Path)\n",
    "# QCLOUD_snowie_dec = xr.open_dataarray(Dec_Path)\n",
    "# QCLOUD_snowie_jan = xr.open_dataarray(Jan_Path)\n",
    "# QCLOUD_snowie_feb = xr.open_dataarray(Feb_Path)\n",
    "# QCLOUD_snowie_mar = xr.open_dataarray(Mar_Path)\n",
    "# QCLOUD_snowie_apr = xr.open_dataarray(Apr_Path)\n",
    "\n",
    "# Delete unnecessary files to save space\n",
    "del dummy_file, Ter_dom, mask_lon, mask_lat, lat_min, lat_max, cartopy_dom, cart_proj_dom\n",
    "# del Oct_Path, Nov_Path, Dec_Path, Jan_Path, Feb_Path, Mar_Path, Apr_Path"
   ]
  },
  {
   "cell_type": "code",
   "execution_count": 16,
   "id": "ce951515-51d3-48f3-80b8-bfeed11fff42",
   "metadata": {},
   "outputs": [],
   "source": [
    "# write_xarray_to_netcdf(SNOWNC_snowie, Saved_Data_Path + \"SNOWNC_snowie_oct.nc\", \n",
    "                       # mode = 'w', format = 'NETCDF4', group=None, engine=None, encoding=None)"
   ]
  },
  {
   "cell_type": "markdown",
   "id": "b303b49d-6baa-464d-bc19-84f830d1590c",
   "metadata": {},
   "source": [
    "**Find Events**"
   ]
  },
  {
   "cell_type": "markdown",
   "id": "8947b0b1-5558-454a-9bb1-e70c2762609f",
   "metadata": {},
   "source": [
    "*Daily Averaging, Entire Grid & at Elevation Bands*"
   ]
  },
  {
   "cell_type": "code",
   "execution_count": null,
   "id": "096bda15-7d99-4ad9-92ba-7fd898cdc78c",
   "metadata": {},
   "outputs": [],
   "source": [
    "SNOWNC_snowie_dailymean = SNOWNC_snowie.resample(Time='1D').last()\n",
    "\n",
    "SNOWNC_spatial_avg_dailymean = np.zeros(212)\n",
    "SNOWNC_spatial_avg_dailymean_a1500 = np.zeros(212)\n",
    "SNOWNC_spatial_avg_dailymean_a2000 = np.zeros(212)\n",
    "SNOWNC_spatial_avg_dailymean_a2500 = np.zeros(212)\n",
    "\n",
    "for i in range (0,212): \n",
    "    SNOWNC_spatial_avg_dailymean[i] = SNOWNC_snowie_dailymean[i,:,:].mean() \n",
    "    SNOWNC_spatial_avg_dailymean_a1500[i] = SNOWNC_snowie_dailymean.where(Ter_aoi >= 1500)[i,:,:].mean()\n",
    "    SNOWNC_spatial_avg_dailymean_a2000[i] = SNOWNC_snowie_dailymean.where(Ter_aoi >= 2000)[i,:,:].mean()    \n",
    "    SNOWNC_spatial_avg_dailymean_a2500[i] = SNOWNC_snowie_dailymean.where(Ter_aoi >= 2500)[i,:,:].mean()  "
   ]
  },
  {
   "cell_type": "markdown",
   "id": "f4627704-ead0-4145-ab62-9584a73e198e",
   "metadata": {},
   "source": [
    "*Turn Accumulation Into Snowfall Amounts*"
   ]
  },
  {
   "cell_type": "code",
   "execution_count": null,
   "id": "36f14af5-7425-4511-a859-cbff3a52bc6b",
   "metadata": {},
   "outputs": [],
   "source": [
    "SNOWNC_snowie_dailymean_notaccum = SNOWNC_snowie_dailymean * 0\n",
    "SNOWNC_snowie_notaccum = SNOWNC_snowie * 0\n",
    "\n",
    "for i in range(0,len(SNOWNC_snowie_dailymean)):\n",
    "    if i == 0:\n",
    "        SNOWNC_snowie_dailymean_notaccum[i,:,:] =  SNOWNC_snowie_dailymean[i,:,:]\n",
    "    else:\n",
    "        SNOWNC_snowie_dailymean_notaccum[i,:,:] =  SNOWNC_snowie_dailymean[i,:,:] - SNOWNC_snowie_dailymean[i-1,:,:]\n",
    "        \n",
    "for i in range(0,len(SNOWNC_snowie)):\n",
    "    if i == 0:\n",
    "        SNOWNC_snowie_notaccum[i,:,:] =  SNOWNC_snowie[i,:,:]\n",
    "    else:\n",
    "        SNOWNC_snowie_notaccum[i,:,:] =  SNOWNC_snowie[i,:,:] - SNOWNC_snowie[i-1,:,:]"
   ]
  },
  {
   "cell_type": "markdown",
   "id": "6de6d144-5b04-448a-a4e4-9324140926ba",
   "metadata": {},
   "source": [
    "*Daily & Hourly Accumulation at Elevation Bands*"
   ]
  },
  {
   "cell_type": "code",
   "execution_count": null,
   "id": "0485a6a2-5532-4492-b860-32e6dae75332",
   "metadata": {},
   "outputs": [],
   "source": [
    "SNOWNC_snowie_dailymean_notaccum_a1500 = SNOWNC_snowie_dailymean_notaccum.where(Ter_aoi > 1500)\n",
    "SNOWNC_snowie_dailymean_notaccum_a2000 = SNOWNC_snowie_dailymean_notaccum.where(Ter_aoi > 2000)\n",
    "SNOWNC_snowie_dailymean_notaccum_a2500 = SNOWNC_snowie_dailymean_notaccum.where(Ter_aoi > 2500)\n",
    "\n",
    "SNOWNC_snowie_notaccum_a1500 = SNOWNC_snowie_notaccum.where(Ter_aoi > 1500)\n",
    "SNOWNC_snowie_notaccum_a2000 = SNOWNC_snowie_notaccum.where(Ter_aoi > 2000)\n",
    "SNOWNC_snowie_notaccum_a2500 = SNOWNC_snowie_notaccum.where(Ter_aoi > 2500)"
   ]
  },
  {
   "cell_type": "markdown",
   "id": "4fca0ebf-a4f8-446b-bc07-6826cfa9a1bf",
   "metadata": {},
   "source": [
    "*Average for all grid cells*"
   ]
  },
  {
   "cell_type": "code",
   "execution_count": null,
   "id": "805ab7a4-2abe-4501-9da2-6c7bd93ce079",
   "metadata": {},
   "outputs": [],
   "source": [
    "SNOWNC_snowie_dailymean_notaccum_avg = np.zeros(212)\n",
    "SNOWNC_snowie_dailymean_notaccum_avg_a1500 = np.zeros(212)\n",
    "SNOWNC_snowie_dailymean_notaccum_avg_a2000 = np.zeros(212)\n",
    "SNOWNC_snowie_dailymean_notaccum_avg_a2500 = np.zeros(212)\n",
    "\n",
    "SNOWNC_snowie_notaccum_avg_a1500 = np.zeros(5088)\n",
    "SNOWNC_snowie_notaccum_avg_a2000 = np.zeros(5088)\n",
    "SNOWNC_snowie_notaccum_avg_a2500 = np.zeros(5088)\n",
    "SNOWNC_snowie_notaccum_avg = np.zeros(5088)\n",
    "\n",
    "for i in range (0,212):\n",
    "    SNOWNC_snowie_dailymean_notaccum_avg[i] = SNOWNC_snowie_dailymean_notaccum[i,:,:].mean()\n",
    "    SNOWNC_snowie_dailymean_notaccum_avg_a1500[i] = SNOWNC_snowie_dailymean_notaccum_a1500[i,:,:].mean()    \n",
    "    SNOWNC_snowie_dailymean_notaccum_avg_a2000[i] = SNOWNC_snowie_dailymean_notaccum_a2000[i,:,:].mean()    \n",
    "    SNOWNC_snowie_dailymean_notaccum_avg_a2500[i] = SNOWNC_snowie_dailymean_notaccum_a2500[i,:,:].mean()    \n",
    "\n",
    "for i in range (0,5088):\n",
    "    SNOWNC_snowie_notaccum_avg[i] = SNOWNC_snowie_notaccum[i,:,:].mean()\n",
    "    SNOWNC_snowie_notaccum_avg_a1500[i] = SNOWNC_snowie_notaccum_a1500[i,:,:].mean()\n",
    "    SNOWNC_snowie_notaccum_avg_a2000[i] = SNOWNC_snowie_notaccum_a2000[i,:,:].mean()\n",
    "    SNOWNC_snowie_notaccum_avg_a2500[i] = SNOWNC_snowie_notaccum_a2500[i,:,:].mean()"
   ]
  },
  {
   "cell_type": "markdown",
   "id": "81b71a04-50ef-463a-81b0-f4460b47bbf5",
   "metadata": {},
   "source": [
    "*Find Events*"
   ]
  },
  {
   "cell_type": "code",
   "execution_count": null,
   "id": "e4530b8d-f117-4ceb-b27f-6707da1359b5",
   "metadata": {},
   "outputs": [],
   "source": [
    "SnowfallBelowThreshold = np.zeros(5088)\n",
    "SnowfallEventNumbered = np.zeros(5088)\n",
    "EventLengths = []\n",
    "\n",
    "SnowfallThreshold = 0.025 # mm \n",
    "# SnowfallThreshold = 0.1 # mm \n",
    "\n",
    "for i in range(0,len(SnowfallBelowThreshold)):\n",
    "    if SNOWNC_snowie_notaccum_avg[i] < SnowfallThreshold:\n",
    "        SnowfallBelowThreshold[i] = 0\n",
    "    else:\n",
    "        SnowfallBelowThreshold[i] = SNOWNC_snowie_notaccum_avg[i]\n",
    "\n",
    "EventTimeThreshold = 3 # hours\n",
    "n = 1 # event counter\n",
    "x = 1 # event length\n",
    "j = 1 # hour counter\n",
    "\n",
    "for i in range(0,len(SnowfallBelowThreshold)):\n",
    "    j = 1\n",
    "    if SnowfallBelowThreshold[i] == 0:\n",
    "        if x > 1:\n",
    "            x += 1\n",
    "            SnowfallEventNumbered[i] = n \n",
    "            continue\n",
    "        else:    \n",
    "            continue\n",
    "    else:     \n",
    "        SnowfallEventNumbered[i] = n \n",
    "        while (j <= EventTimeThreshold and i+j < 5088):\n",
    "            if SnowfallBelowThreshold[i+j] > 0:\n",
    "                x += 1\n",
    "                break\n",
    "            if j == EventTimeThreshold:\n",
    "                n += 1\n",
    "                EventLengths.append(x)\n",
    "                x = 1\n",
    "            j += 1"
   ]
  },
  {
   "cell_type": "markdown",
   "id": "a9ce4c47-5340-4c66-b02b-13a22c34a6ef",
   "metadata": {},
   "source": [
    "*Other Useful Variables*"
   ]
  },
  {
   "cell_type": "code",
   "execution_count": null,
   "id": "ac39d6d9-8c4b-4046-a635-2c2e0ef39e48",
   "metadata": {},
   "outputs": [],
   "source": [
    "MonthlyLastTimestep = [0, 744, 1464, 2208, 2952, 3624, 4368, 5088]\n",
    "Months = [\"Oct\", \"Nov\", \"Dec\", \"Jan\", \"Feb\", \"Mar\", \"Apr\"]\n",
    "\n",
    "EventTimesStart = []\n",
    "EventTimesEnd = []\n",
    "j = -1\n",
    "\n",
    "for i in range(0,len(SnowfallEventNumbered)):\n",
    "    if i > j:\n",
    "        if SnowfallEventNumbered[i] > 0:\n",
    "            EventTimesStart.append(i)\n",
    "            for j in range(i,len(SnowfallEventNumbered)):\n",
    "                if SnowfallEventNumbered[j] == 0:\n",
    "                    EventTimesEnd.append(j)\n",
    "                    break\n",
    "\n",
    "EventPrecip = np.zeros(len(EventLengths))\n",
    "\n",
    "for i in range(0,len(EventPrecip)):\n",
    "    EventPrecip[i] = sum(SnowfallBelowThreshold[EventTimesStart[i]:EventTimesEnd[i]])\n",
    "    \n",
    "MonthlyEvents = np.zeros(7)\n",
    "\n",
    "TotalEvents = max(SnowfallEventNumbered)\n",
    "\n",
    "for i in range(0,len(MonthlyEvents)):\n",
    "    if i == 0:\n",
    "        MonthlyEvents[0] = max(SnowfallEventNumbered[MonthlyLastTimestep[0]:MonthlyLastTimestep[1]])\n",
    "    else:\n",
    "        MonthlyEvents[i] = max(SnowfallEventNumbered[MonthlyLastTimestep[i]:MonthlyLastTimestep[i+1]]) - max(SnowfallEventNumbered[MonthlyLastTimestep[i-1]:MonthlyLastTimestep[i]])       \n",
    "\n",
    "MonthlyEventIndices = np.zeros(7)\n",
    "for i in range(0,len(MonthlyEventIndices)):\n",
    "    MonthlyEventIndices[i-1] = sum(MonthlyEvents[0:i])\n",
    "MonthlyEventIndices[len(MonthlyEventIndices)-1] = sum(MonthlyEvents)\n",
    "\n",
    "MonthlyEventIndices = MonthlyEventIndices.astype(int)"
   ]
  },
  {
   "cell_type": "markdown",
   "id": "e0b5828b-6571-4c54-8eef-09bfb54fc7aa",
   "metadata": {},
   "source": [
    "*Write variables to CSVs*"
   ]
  },
  {
   "cell_type": "code",
   "execution_count": null,
   "id": "bfee72d2-b4db-453c-a899-d5eb276b0eed",
   "metadata": {},
   "outputs": [],
   "source": [
    "with open(Saved_Data_Path + 'EventLengths.csv', 'w') as f:\n",
    "    write = csv.writer(f)\n",
    "    write.writerow(EventLengths)\n",
    "\n",
    "with open(Saved_Data_Path + 'EventTimesStart.csv', 'w') as f:\n",
    "    write = csv.writer(f)\n",
    "    write.writerow(EventTimesStart)\n",
    "\n",
    "with open(Saved_Data_Path + 'EventTimesEnd.csv', 'w') as f:\n",
    "    write = csv.writer(f)\n",
    "    write.writerow(EventTimesEnd)\n",
    "    \n",
    "with open(Saved_Data_Path + 'SnowfallEventNumbered.csv', 'w') as f:\n",
    "    write = csv.writer(f)\n",
    "    write.writerow(SnowfallEventNumbered)\n",
    "\n",
    "with open(Saved_Data_Path + 'MonthlyEventIndices.csv', 'w') as f:\n",
    "    write = csv.writer(f)\n",
    "    write.writerow(MonthlyEventIndices)"
   ]
  },
  {
   "cell_type": "markdown",
   "id": "908d2954-8bad-4402-bee5-bf1dc4b629f0",
   "metadata": {},
   "source": [
    "*Open CSVs*"
   ]
  },
  {
   "cell_type": "code",
   "execution_count": 22,
   "id": "b8146cca-d938-4fc4-b745-3e998e52b904",
   "metadata": {},
   "outputs": [],
   "source": [
    "with open(Saved_Data_Path + 'EventLengths.csv') as f:\n",
    "    reader = csv.reader(f)\n",
    "    EventLengths = list(reader)\n",
    "\n",
    "EventLengths = EventLengths[0]\n",
    "EventLengths = [int(i) for i in EventLengths]\n",
    "\n",
    "with open(Saved_Data_Path + 'EventTimesStart.csv') as f:\n",
    "    reader = csv.reader(f)\n",
    "    EventTimesStart = list(reader)\n",
    "\n",
    "EventTimesStart = EventTimesStart[0]\n",
    "EventTimesStart = [int(i) for i in EventTimesStart]\n",
    "\n",
    "with open(Saved_Data_Path + 'EventTimesEnd.csv') as f:\n",
    "    reader = csv.reader(f)\n",
    "    EventTimesEnd = list(reader)\n",
    "\n",
    "EventTimesEnd = EventTimesEnd[0]\n",
    "EventTimesEnd = [int(i) for i in EventTimesEnd]\n",
    "\n",
    "with open(Saved_Data_Path + 'SnowfallEventNumbered.csv') as f:\n",
    "    reader = csv.reader(f)\n",
    "    SnowfallEventNumbered = list(reader)\n",
    "\n",
    "SnowfallEventNumbered = SnowfallEventNumbered[0]\n",
    "SnowfallEventNumbered = [int(float(i)) for i in SnowfallEventNumbered]\n",
    "\n",
    "with open(Saved_Data_Path + 'MonthlyEventIndices.csv') as f:\n",
    "    reader = csv.reader(f)\n",
    "    MonthlyEventIndices = list(reader)\n",
    "\n",
    "MonthlyEventIndices = MonthlyEventIndices[0]\n",
    "MonthlyEventIndices = [int(i) for i in MonthlyEventIndices]"
   ]
  }
 ],
 "metadata": {
  "kernelspec": {
   "display_name": "Python [conda env:miniconda3-snowie_env]",
   "language": "python",
   "name": "conda-env-miniconda3-snowie_env-py"
  },
  "language_info": {
   "codemirror_mode": {
    "name": "ipython",
    "version": 3
   },
   "file_extension": ".py",
   "mimetype": "text/x-python",
   "name": "python",
   "nbconvert_exporter": "python",
   "pygments_lexer": "ipython3",
   "version": "3.7.11"
  }
 },
 "nbformat": 4,
 "nbformat_minor": 5
}
